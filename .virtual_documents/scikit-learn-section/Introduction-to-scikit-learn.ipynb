








# Standard imports
import pandas as pd
import numpy as np
import matplotlib.pyplot as plt
%matplotlib inline





# 1. Get the data ready
heart_disease = pd.read_csv("../matplotlib-section/heart-disese-data.csv")
heart_disease.head()


# Create X (feature matrix)
X = heart_disease.drop("target", axis = 1)

# Create y (label matrix)
y = heart_disease["target"]



# 2. Choose the right model and hyperparameters
from sklearn.ensemble import RandomForestClassifier

clf = RandomForestClassifier()

# We'll keep the default hayperparameters
clf.get_params()


# 3. Fit the model to the training data
from sklearn.model_selection import train_test_split
X_train, X_test, y_train, y_test = train_test_split(X, y, test_size=0.2)


clf.fit(X_train, y_train)


# make a prediction
y_label = clf.predict(np.array([0, 2, 3, 4]))


y_preds = clf.predict(X_test)
y_preds


y_test


# 4. Evaluate the model on the training data and test data
clf.score(X_train, y_train)


clf.score(X_test, y_test)


from sklearn.metrics import classification_report, confusion_matrix, accuracy_score

print(classification_report(y_test, y_preds))


confusion_matrix(y_test, y_preds)


accuracy_score(y_test, y_preds)


# 5. Improve a model
# Try different amount of n_estimators
np.random.seed(42)
for i in range(10, 100, 10):
    print(f"Trying model with {i} estimators...")
    clf = RandomForestClassifier(n_estimators=i).fit(X_train, y_train)
    print(f"Model accuracy on test set: {clf.score(X_test, y_test) * 100:.2f}%")
    print("")


# 6. Save a model and load it
import pickle

pickle.dump(clf, open("random_forst_model_1.pkl", "wb"))


ls


loaded_model = pickle.load(open("random_forst_model_1.pkl", "rb"))
loaded_model.score(X_test, y_test)


import warnings
# Ignores the warning i.e, we don't get the warnings
# Use it only if we know what we are doing
warnings.filterwarnings("ignore")

# To reset it we can do
warnings.filterwarnings("default")






what_were_covering = [
    '0. An end-to-end Scikit-Learn workflow',
    '1. Getting the data ready',
    '2. Choose the right estimator/ algoritm for our problems',
    '3. Fit the model/algoritm and use it to make predictions on our data',
    '4. Evaluating a model',
    '5. Improve a model',
    '6. Save and load a trained model',
    '7. Putting it all together!'
]





heart_disease.head()


# Every column expcept target column
X = heart_disease.drop("target", axis = 1)
X.head()


y = heart_disease["target"]
y.head()


# Split the data into training and test sets
from sklearn.model_selection import train_test_split
X_train, X_test, y_train, y_test = train_test_split(X, y, test_size=0.2)


X_train.shape, X_test.shape, y_train.shape, y_test.shape








car_sales = pd.read_csv("data/car-sales-extended.csv")
car_sales.head()


car_sales["Doors"].value_counts()


len(car_sales)


car_sales.dtypes


# Split into X/y
X =car_sales.drop("Price", axis = 1)
y = car_sales["Price"]

# Splitting into training and test
X_train, X_test, y_train, y_test = train_test_split(X, y, test_size=0.2)


# Build ML model
from sklearn.ensemble import RandomForestRegressor

model = RandomForestRegressor()
model.fit(X_train, y_train)
model.score(X_test, y_test)


# Turn the categories into numbers
from sklearn.preprocessing import OneHotEncoder
from sklearn.compose import ColumnTransformer

categorical_features = ["Make", "Colour", "Doors"]
one_hot = OneHotEncoder()
transformer = ColumnTransformer([("one_hot",
                                  one_hot,
                                   categorical_features)],
                                  remainder="passthrough")
transformed_X = transformer.fit_transform(X)
transformed_X



pd.DataFrame(transformed_X)


# Generated error need to check on it later
# dummies = pd.get_dummies(car_sales[["Make"], ["Colour"], ["Doors"]])
# dummies


# Let's refit the model
np.random.seed(42)
X_train, X_test, y_train, y_test = train_test_split(transformed_X,
                                                    y,
                                                   test_size=0.2)
model.fit(X_train, y_train)


model.score(X_test, y_test)





# Import car sales missing data
car_sales_missing = pd.read_csv("./data/car-sales-extended-missing-data.csv")


car_sales_missing.head()


car_sales_missing.isna().sum()


# Create X and y
X = car_sales_missing.drop("Price", axis = 1)
y = car_sales_missing["Price"]


# Let's try and convert to numbers
from sklearn.preprocessing import OneHotEncoder
from sklearn.compose import ColumnTransformer

categorical_features = ["Make", "Colour", "Doors"]
one_hot = OneHotEncoder()
transformer = ColumnTransformer([("one_hot",
                                 one_hot,
                                 categorical_features)],
                               remainder="passthrough")
transformed_X = transformer.fit_transform(X)
transformed_X






# Fill the "Make" column
car_sales_missing["Make"].fillna("missing", inplace=True)

# Fill the "Colour" column
car_sales_missing["Colour"].fillna("missing", inplace=True)

# Fill the "Odometer (KN)" column
car_sales_missing["Odometer (KM)"].fillna(car_sales_missing["Odometer (KM)"].mean(), inplace=True)

# Fill the "Doors" column
car_sales_missing["Doors"].fillna(4, inplace=True)


# Check our dataframe again
car_sales_missing.isna().sum()


# Remove rows with missing Price value
car_sales_missing.dropna(inplace=True)


car_sales_missing.isna().sum()


X = car_sales_missing.drop("Price", axis=1)
y = car_sales_missing["Price"]


# Let's try and convert to numbers
from sklearn.preprocessing import OneHotEncoder
from sklearn.compose import ColumnTransformer

categorical_features = ["Make", "Colour", "Doors"]
one_hot = OneHotEncoder()
transformer = ColumnTransformer([("one_hot",
                                 one_hot,
                                 categorical_features)],
                               remainder="passthrough")
transformed_X = transformer.fit_transform(car_sales_missing)
transformed_X


pd.DataFrame(transformed_X)





car_sales_missing = pd.read_csv("data/car-sales-extended-missing-data.csv")
car_sales_missing.head()


car_sales_missing.isna().sum()


# Drop the rows with no labels
car_sales_missing.dropna(subset=["Price"], inplace=True)
car_sales_missing.isna().sum()


# Split into X and y
X = car_sales_missing.drop("Price", axis=1)
y = car_sales_missing["Price"]



# Fill missing values with Scikit-Learn
from sklearn.impute import SimpleImputer



