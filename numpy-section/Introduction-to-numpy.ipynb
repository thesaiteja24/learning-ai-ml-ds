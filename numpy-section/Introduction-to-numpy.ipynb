{
 "cells": [
  {
   "cell_type": "markdown",
   "id": "fc8d63f1-7377-4bab-a43c-6a298a954865",
   "metadata": {},
   "source": [
    "# *Why Numpy*\n",
    "#### Numpy is written in C which means it is faster python lists\n",
    "#### Easier for Machine to Understand ??\n",
    "\n",
    "#### It is fast\n",
    "#### Behind the scenes optimization is written in C\n",
    "#### Vectorization via broadcasting (avoiding loops)\n",
    "#### Backbone of other python scientific packages\n",
    "\n",
    "Numpy turns the data into series of numbers on which the machine learning model works and finds patterns etc.\n",
    "\n",
    "Section Notes Notebook : https://github.com/mrdbourke/zero-to-mastery-ml/blob/master/section-2-data-science-and-ml-tools/introduction-to-numpy.ipynb\n",
    "\n",
    "Section Videos Notebook : https://github.com/mrdbourke/zero-to-mastery-ml/blob/master/section-2-data-science-and-ml-tools/introduction-to-numpy-video.ipynb\n",
    "\n",
    "NumPy Documentation : https://numpy.org/doc/"
   ]
  },
  {
   "cell_type": "code",
   "execution_count": 3,
   "id": "ce209632-5b7c-4e53-86ff-67f49424917d",
   "metadata": {},
   "outputs": [],
   "source": [
    "# Importing Numpy\n",
    "import numpy as np"
   ]
  },
  {
   "cell_type": "markdown",
   "id": "262cf068-7f15-4657-8066-3c3385c588d3",
   "metadata": {},
   "source": [
    "# Data Types and Attributes"
   ]
  },
  {
   "cell_type": "code",
   "execution_count": 100,
   "id": "fcce495f-5a4b-4d5c-afa8-a272f93320b9",
   "metadata": {},
   "outputs": [
    {
     "data": {
      "text/plain": [
       "array([1, 2, 3])"
      ]
     },
     "execution_count": 100,
     "metadata": {},
     "output_type": "execute_result"
    }
   ],
   "source": [
    "# Numpy's main data type is ndarray (n dimensional array)\n",
    "a1 = np.array([1,2,3])\n",
    "a1"
   ]
  },
  {
   "cell_type": "code",
   "execution_count": 5,
   "id": "d296e096-141f-4cb5-8e59-e1b62d134135",
   "metadata": {},
   "outputs": [],
   "source": [
    "a2 = np.array([[1,2.0,3.3],\n",
    "              [4,5,6.5]])\n",
    "a3 = np.array([[[1,2,3],\n",
    "               [4,5,6],\n",
    "               [7,8,9]],\n",
    "               [[10,11,12],\n",
    "               [13,14,15],\n",
    "               [16,17,18]]])"
   ]
  },
  {
   "cell_type": "code",
   "execution_count": 6,
   "id": "478b28ac-8ea0-4248-9d5a-99f7442ce993",
   "metadata": {},
   "outputs": [
    {
     "data": {
      "text/plain": [
       "array([[1. , 2. , 3.3],\n",
       "       [4. , 5. , 6.5]])"
      ]
     },
     "execution_count": 6,
     "metadata": {},
     "output_type": "execute_result"
    }
   ],
   "source": [
    "a2"
   ]
  },
  {
   "cell_type": "code",
   "execution_count": 7,
   "id": "67b393e2-cb30-4aef-9bda-8a2488340efc",
   "metadata": {},
   "outputs": [
    {
     "data": {
      "text/plain": [
       "array([[[ 1,  2,  3],\n",
       "        [ 4,  5,  6],\n",
       "        [ 7,  8,  9]],\n",
       "\n",
       "       [[10, 11, 12],\n",
       "        [13, 14, 15],\n",
       "        [16, 17, 18]]])"
      ]
     },
     "execution_count": 7,
     "metadata": {},
     "output_type": "execute_result"
    }
   ],
   "source": [
    "a3"
   ]
  },
  {
   "cell_type": "code",
   "execution_count": 8,
   "id": "aa71df34-8a19-45d9-bc61-c90d3bd5e771",
   "metadata": {},
   "outputs": [
    {
     "data": {
      "text/plain": [
       "(5,)"
      ]
     },
     "execution_count": 8,
     "metadata": {},
     "output_type": "execute_result"
    }
   ],
   "source": [
    "a1.shape"
   ]
  },
  {
   "cell_type": "code",
   "execution_count": 10,
   "id": "11bc400c-05f3-4b79-a0a0-e451f045f938",
   "metadata": {},
   "outputs": [
    {
     "data": {
      "text/plain": [
       "(2, 3)"
      ]
     },
     "execution_count": 10,
     "metadata": {},
     "output_type": "execute_result"
    }
   ],
   "source": [
    "a2.shape"
   ]
  },
  {
   "cell_type": "code",
   "execution_count": 13,
   "id": "03bd5e6a-a69d-4d8d-98a9-2540606cc884",
   "metadata": {},
   "outputs": [
    {
     "data": {
      "text/plain": [
       "(2, 3, 3)"
      ]
     },
     "execution_count": 13,
     "metadata": {},
     "output_type": "execute_result"
    }
   ],
   "source": [
    "a3.shape"
   ]
  },
  {
   "cell_type": "markdown",
   "id": "802ff127-5ce9-4cf1-8474-70d7b0303eb6",
   "metadata": {},
   "source": [
    "![](anatomy-of-numpy-array.png)"
   ]
  },
  {
   "cell_type": "code",
   "execution_count": 15,
   "id": "6b90d3c3-e39a-46d3-9e95-ab1c9cc473dc",
   "metadata": {},
   "outputs": [
    {
     "data": {
      "text/plain": [
       "(1, 2, 3)"
      ]
     },
     "execution_count": 15,
     "metadata": {},
     "output_type": "execute_result"
    }
   ],
   "source": [
    "a1.ndim, a2.ndim, a3.ndim"
   ]
  },
  {
   "cell_type": "code",
   "execution_count": 16,
   "id": "ce034d91-990b-48c4-bfa2-f3f3b210e0f3",
   "metadata": {},
   "outputs": [
    {
     "data": {
      "text/plain": [
       "(dtype('int64'), dtype('float64'), dtype('int64'))"
      ]
     },
     "execution_count": 16,
     "metadata": {},
     "output_type": "execute_result"
    }
   ],
   "source": [
    "a1.dtype, a2.dtype, a3.dtype"
   ]
  },
  {
   "cell_type": "code",
   "execution_count": 17,
   "id": "02e02e9d-028f-40a4-8ba8-9883615ebc98",
   "metadata": {},
   "outputs": [
    {
     "data": {
      "text/plain": [
       "(5, 6, 18)"
      ]
     },
     "execution_count": 17,
     "metadata": {},
     "output_type": "execute_result"
    }
   ],
   "source": [
    "a1.size, a2.size, a3.size"
   ]
  },
  {
   "cell_type": "code",
   "execution_count": 18,
   "id": "d3055920-75fe-40ca-8eee-61b9c4356753",
   "metadata": {},
   "outputs": [
    {
     "data": {
      "text/plain": [
       "(numpy.ndarray, numpy.ndarray, numpy.ndarray)"
      ]
     },
     "execution_count": 18,
     "metadata": {},
     "output_type": "execute_result"
    }
   ],
   "source": [
    "type(a1), type(a2), type(a3)"
   ]
  },
  {
   "cell_type": "code",
   "execution_count": 19,
   "id": "cabe1dd8-4271-4c68-82af-4b65577669f8",
   "metadata": {},
   "outputs": [
    {
     "data": {
      "text/html": [
       "<div>\n",
       "<style scoped>\n",
       "    .dataframe tbody tr th:only-of-type {\n",
       "        vertical-align: middle;\n",
       "    }\n",
       "\n",
       "    .dataframe tbody tr th {\n",
       "        vertical-align: top;\n",
       "    }\n",
       "\n",
       "    .dataframe thead th {\n",
       "        text-align: right;\n",
       "    }\n",
       "</style>\n",
       "<table border=\"1\" class=\"dataframe\">\n",
       "  <thead>\n",
       "    <tr style=\"text-align: right;\">\n",
       "      <th></th>\n",
       "      <th>0</th>\n",
       "      <th>1</th>\n",
       "      <th>2</th>\n",
       "    </tr>\n",
       "  </thead>\n",
       "  <tbody>\n",
       "    <tr>\n",
       "      <th>0</th>\n",
       "      <td>1.0</td>\n",
       "      <td>2.0</td>\n",
       "      <td>3.3</td>\n",
       "    </tr>\n",
       "    <tr>\n",
       "      <th>1</th>\n",
       "      <td>4.0</td>\n",
       "      <td>5.0</td>\n",
       "      <td>6.5</td>\n",
       "    </tr>\n",
       "  </tbody>\n",
       "</table>\n",
       "</div>"
      ],
      "text/plain": [
       "     0    1    2\n",
       "0  1.0  2.0  3.3\n",
       "1  4.0  5.0  6.5"
      ]
     },
     "execution_count": 19,
     "metadata": {},
     "output_type": "execute_result"
    }
   ],
   "source": [
    "# Create a DataFrame from a Numpy array\n",
    "import pandas as pd\n",
    "df = pd.DataFrame(a2)\n",
    "df"
   ]
  },
  {
   "cell_type": "markdown",
   "id": "498fea69-576b-499c-b5b5-0448157ac1c2",
   "metadata": {},
   "source": [
    "# 2. Creating array"
   ]
  },
  {
   "cell_type": "code",
   "execution_count": 26,
   "id": "ec4bd162-57c7-469b-b980-4abd52a036be",
   "metadata": {},
   "outputs": [
    {
     "data": {
      "text/plain": [
       "array([1., 1., 1.])"
      ]
     },
     "execution_count": 26,
     "metadata": {},
     "output_type": "execute_result"
    }
   ],
   "source": [
    "# Use shift + tab to get documentation \n",
    "ones = np.ones(3)\n",
    "ones"
   ]
  },
  {
   "cell_type": "code",
   "execution_count": 28,
   "id": "f841fb5c-3fa1-4213-9bc8-a1b32250f4c4",
   "metadata": {},
   "outputs": [
    {
     "data": {
      "text/plain": [
       "array([[1., 1., 1., 1.],\n",
       "       [1., 1., 1., 1.]])"
      ]
     },
     "execution_count": 28,
     "metadata": {},
     "output_type": "execute_result"
    }
   ],
   "source": [
    "ones = np.ones((2,4))\n",
    "ones"
   ]
  },
  {
   "cell_type": "code",
   "execution_count": 29,
   "id": "34c1a43a-94d4-4900-adb1-28acfbe10314",
   "metadata": {},
   "outputs": [
    {
     "data": {
      "text/plain": [
       "array([[0., 0., 0.],\n",
       "       [0., 0., 0.]])"
      ]
     },
     "execution_count": 29,
     "metadata": {},
     "output_type": "execute_result"
    }
   ],
   "source": [
    "zeros = np.zeros((2,3))\n",
    "zeros"
   ]
  },
  {
   "cell_type": "code",
   "execution_count": 31,
   "id": "eff7a9b0-92da-4b53-a66e-905bbf18294c",
   "metadata": {},
   "outputs": [
    {
     "data": {
      "text/plain": [
       "array([0, 2, 4, 6, 8])"
      ]
     },
     "execution_count": 31,
     "metadata": {},
     "output_type": "execute_result"
    }
   ],
   "source": [
    "range_array = np.arange(0,10,2)\n",
    "range_array"
   ]
  },
  {
   "cell_type": "code",
   "execution_count": 33,
   "id": "640af313-6fae-4cc7-9664-9bd51c13d7fc",
   "metadata": {},
   "outputs": [
    {
     "data": {
      "text/plain": [
       "array([[1, 0, 7, 3, 7],\n",
       "       [8, 1, 7, 9, 2],\n",
       "       [9, 2, 6, 7, 5]])"
      ]
     },
     "execution_count": 33,
     "metadata": {},
     "output_type": "execute_result"
    }
   ],
   "source": [
    "random_array = np.random.randint(0, 10 , size=(3,5))\n",
    "random_array"
   ]
  },
  {
   "cell_type": "code",
   "execution_count": 34,
   "id": "4a0cb1a3-7168-4cdc-a98b-7c3258848f0e",
   "metadata": {},
   "outputs": [
    {
     "data": {
      "text/plain": [
       "(15, (3, 5))"
      ]
     },
     "execution_count": 34,
     "metadata": {},
     "output_type": "execute_result"
    }
   ],
   "source": [
    "random_array.size, random_array.shape"
   ]
  },
  {
   "cell_type": "code",
   "execution_count": 36,
   "id": "ae88a20d-3dc9-470b-b397-372771ac8d5b",
   "metadata": {},
   "outputs": [
    {
     "data": {
      "text/plain": [
       "array([[0.44679299, 0.68524   , 0.81787607],\n",
       "       [0.04530118, 0.58642403, 0.51513452],\n",
       "       [0.65929516, 0.43669676, 0.79624141],\n",
       "       [0.87816394, 0.91211232, 0.47977167],\n",
       "       [0.83841922, 0.73342062, 0.15844662]])"
      ]
     },
     "execution_count": 36,
     "metadata": {},
     "output_type": "execute_result"
    }
   ],
   "source": [
    "random_array_2 = np.random.random((5,3))\n",
    "random_array_2"
   ]
  },
  {
   "cell_type": "code",
   "execution_count": 37,
   "id": "81b8084c-342f-41ff-8d6d-9129fc19a34f",
   "metadata": {},
   "outputs": [
    {
     "data": {
      "text/plain": [
       "array([[0.88971236, 0.94276915, 0.20624854],\n",
       "       [0.75841476, 0.27481322, 0.18465696],\n",
       "       [0.35645951, 0.23335763, 0.70187227],\n",
       "       [0.31670071, 0.11006117, 0.54691665],\n",
       "       [0.44740456, 0.92666549, 0.22405188]])"
      ]
     },
     "execution_count": 37,
     "metadata": {},
     "output_type": "execute_result"
    }
   ],
   "source": [
    "random_array_3 = np.random.rand(5,3)\n",
    "random_array_3"
   ]
  },
  {
   "cell_type": "code",
   "execution_count": 43,
   "id": "d41d7861-c8e4-4ee0-b8fe-c04067d390d3",
   "metadata": {},
   "outputs": [
    {
     "data": {
      "text/plain": [
       "array([[5, 8, 9],\n",
       "       [5, 0, 0],\n",
       "       [1, 7, 6],\n",
       "       [9, 2, 4],\n",
       "       [5, 2, 4]])"
      ]
     },
     "execution_count": 43,
     "metadata": {},
     "output_type": "execute_result"
    }
   ],
   "source": [
    "# Pseudo-random numbers\n",
    "# it allows us to generate random numbers but the random numbers are reproducable\n",
    "np.random.seed(seed=1)\n",
    "random_array_4 = np.random.randint(10, size=(5,3))\n",
    "random_array_4"
   ]
  },
  {
   "cell_type": "code",
   "execution_count": 45,
   "id": "604f21d9-535c-4f15-a659-446b1a658494",
   "metadata": {},
   "outputs": [
    {
     "data": {
      "text/plain": [
       "array([[0.07630829, 0.77991879, 0.43840923],\n",
       "       [0.72346518, 0.97798951, 0.53849587],\n",
       "       [0.50112046, 0.07205113, 0.26843898],\n",
       "       [0.4998825 , 0.67923   , 0.80373904],\n",
       "       [0.38094113, 0.06593635, 0.2881456 ]])"
      ]
     },
     "execution_count": 45,
     "metadata": {},
     "output_type": "execute_result"
    }
   ],
   "source": [
    "np.random.seed(7)\n",
    "random_array_5 = np.random.random((5,3))\n",
    "random_array_5"
   ]
  },
  {
   "cell_type": "markdown",
   "id": "49e4d70e-4a1a-4431-8ea2-2872f9bb4730",
   "metadata": {},
   "source": [
    "# 3. Viewing arrays and matrices"
   ]
  },
  {
   "cell_type": "code",
   "execution_count": 55,
   "id": "17ad9ffb-2ad1-493e-b27a-af4a60c89a4c",
   "metadata": {},
   "outputs": [
    {
     "data": {
      "text/plain": [
       "array([[ 47,  68,  25, 118,  67],\n",
       "       [ 83,  23, 103,  92,  57],\n",
       "       [ 14,  23,  72,  89, 110],\n",
       "       [ 42,  90,   8,  39, 102],\n",
       "       [ 68,  48,   7,  44,   0]])"
      ]
     },
     "execution_count": 55,
     "metadata": {},
     "output_type": "execute_result"
    }
   ],
   "source": [
    "np.random.seed(7)\n",
    "random_array_6 = np.random.randint(120, size=(5,5))\n",
    "random_array_6"
   ]
  },
  {
   "cell_type": "code",
   "execution_count": 56,
   "id": "d1a6b4e4-6c12-4f45-8e81-74bf53da9a84",
   "metadata": {},
   "outputs": [
    {
     "data": {
      "text/plain": [
       "array([  0,   7,   8,  14,  23,  25,  39,  42,  44,  47,  48,  57,  67,\n",
       "        68,  72,  83,  89,  90,  92, 102, 103, 110, 118])"
      ]
     },
     "execution_count": 56,
     "metadata": {},
     "output_type": "execute_result"
    }
   ],
   "source": [
    "np.unique(random_array_6)"
   ]
  },
  {
   "cell_type": "code",
   "execution_count": 57,
   "id": "4db52e08-e801-40d4-82a3-202622b9241a",
   "metadata": {},
   "outputs": [
    {
     "data": {
      "text/plain": [
       "array([1, 2, 3, 4, 5])"
      ]
     },
     "execution_count": 57,
     "metadata": {},
     "output_type": "execute_result"
    }
   ],
   "source": [
    "a1"
   ]
  },
  {
   "cell_type": "code",
   "execution_count": 58,
   "id": "07cfd6c7-6498-40d0-929d-e45b91c94364",
   "metadata": {},
   "outputs": [
    {
     "data": {
      "text/plain": [
       "array([[1. , 2. , 3.3],\n",
       "       [4. , 5. , 6.5]])"
      ]
     },
     "execution_count": 58,
     "metadata": {},
     "output_type": "execute_result"
    }
   ],
   "source": [
    "a2"
   ]
  },
  {
   "cell_type": "code",
   "execution_count": 59,
   "id": "8ff62734-0b31-48aa-859d-5e0d14a76de3",
   "metadata": {},
   "outputs": [
    {
     "data": {
      "text/plain": [
       "array([[[ 1,  2,  3],\n",
       "        [ 4,  5,  6],\n",
       "        [ 7,  8,  9]],\n",
       "\n",
       "       [[10, 11, 12],\n",
       "        [13, 14, 15],\n",
       "        [16, 17, 18]]])"
      ]
     },
     "execution_count": 59,
     "metadata": {},
     "output_type": "execute_result"
    }
   ],
   "source": [
    "a3"
   ]
  },
  {
   "cell_type": "code",
   "execution_count": 61,
   "id": "26c0ea62-4b70-4a64-9e13-df9c29dbe1c4",
   "metadata": {},
   "outputs": [
    {
     "data": {
      "text/plain": [
       "array([[10, 11, 12],\n",
       "       [13, 14, 15],\n",
       "       [16, 17, 18]])"
      ]
     },
     "execution_count": 61,
     "metadata": {},
     "output_type": "execute_result"
    }
   ],
   "source": [
    "a3[1]"
   ]
  },
  {
   "cell_type": "code",
   "execution_count": 70,
   "id": "f8563bb7-c893-47c1-aada-67351534079f",
   "metadata": {},
   "outputs": [
    {
     "data": {
      "text/plain": [
       "(2, 3, 3)"
      ]
     },
     "execution_count": 70,
     "metadata": {},
     "output_type": "execute_result"
    }
   ],
   "source": [
    "a3.shape"
   ]
  },
  {
   "cell_type": "code",
   "execution_count": 69,
   "id": "10c1a1c8-0177-42ea-bcae-3bac480df4fe",
   "metadata": {},
   "outputs": [
    {
     "data": {
      "text/plain": [
       "array([[[ 1,  2],\n",
       "        [ 4,  5]],\n",
       "\n",
       "       [[10, 11],\n",
       "        [13, 14]]])"
      ]
     },
     "execution_count": 69,
     "metadata": {},
     "output_type": "execute_result"
    }
   ],
   "source": [
    "a3[:, :2, :2]"
   ]
  },
  {
   "cell_type": "code",
   "execution_count": 74,
   "id": "2ab94ddd-6119-43f3-ab4f-5e723d9319ee",
   "metadata": {},
   "outputs": [
    {
     "data": {
      "text/plain": [
       "array([[[[2, 3, 7, 6, 9],\n",
       "         [3, 5, 6, 8, 6],\n",
       "         [7, 3, 8, 5, 6],\n",
       "         [4, 2, 7, 9, 6]],\n",
       "\n",
       "        [[8, 6, 1, 0, 7],\n",
       "         [6, 8, 5, 4, 3],\n",
       "         [0, 7, 4, 0, 8],\n",
       "         [5, 0, 7, 5, 1]],\n",
       "\n",
       "        [[5, 9, 4, 1, 9],\n",
       "         [6, 5, 6, 8, 5],\n",
       "         [9, 4, 6, 0, 6],\n",
       "         [2, 3, 1, 6, 7]]],\n",
       "\n",
       "\n",
       "       [[[0, 0, 4, 7, 0],\n",
       "         [2, 9, 6, 1, 2],\n",
       "         [2, 8, 9, 7, 2],\n",
       "         [4, 7, 7, 9, 1]],\n",
       "\n",
       "        [[0, 1, 8, 7, 4],\n",
       "         [6, 1, 4, 8, 7],\n",
       "         [3, 3, 6, 4, 9],\n",
       "         [5, 7, 9, 9, 7]],\n",
       "\n",
       "        [[6, 9, 8, 8, 6],\n",
       "         [2, 2, 2, 5, 1],\n",
       "         [4, 1, 4, 9, 5],\n",
       "         [3, 5, 8, 7, 0]]]])"
      ]
     },
     "execution_count": 74,
     "metadata": {},
     "output_type": "execute_result"
    }
   ],
   "source": [
    "a4 = np.random.randint(10, size=(2,3,4,5))\n",
    "a4"
   ]
  },
  {
   "cell_type": "code",
   "execution_count": 78,
   "id": "e8519a43-e986-445c-8c31-7f708df357d7",
   "metadata": {},
   "outputs": [
    {
     "data": {
      "text/plain": [
       "(4, (2, 3, 4, 5), 120)"
      ]
     },
     "execution_count": 78,
     "metadata": {},
     "output_type": "execute_result"
    }
   ],
   "source": [
    "a4.ndim, a4.shape, a4.size"
   ]
  },
  {
   "cell_type": "code",
   "execution_count": 81,
   "id": "b07a98e8-9d58-4b91-abf6-c270fe789ef2",
   "metadata": {},
   "outputs": [
    {
     "data": {
      "text/plain": [
       "array([[[[2, 3],\n",
       "         [3, 5],\n",
       "         [7, 3],\n",
       "         [4, 2]],\n",
       "\n",
       "        [[8, 6],\n",
       "         [6, 8],\n",
       "         [0, 7],\n",
       "         [5, 0]],\n",
       "\n",
       "        [[5, 9],\n",
       "         [6, 5],\n",
       "         [9, 4],\n",
       "         [2, 3]]],\n",
       "\n",
       "\n",
       "       [[[0, 0],\n",
       "         [2, 9],\n",
       "         [2, 8],\n",
       "         [4, 7]],\n",
       "\n",
       "        [[0, 1],\n",
       "         [6, 1],\n",
       "         [3, 3],\n",
       "         [5, 7]],\n",
       "\n",
       "        [[6, 9],\n",
       "         [2, 2],\n",
       "         [4, 1],\n",
       "         [3, 5]]]])"
      ]
     },
     "execution_count": 81,
     "metadata": {},
     "output_type": "execute_result"
    }
   ],
   "source": [
    "# get the first 2 numbers of the inner most array\n",
    "a4[:,:,:,:2]"
   ]
  },
  {
   "cell_type": "code",
   "execution_count": 85,
   "id": "4395949d-48d1-4a3c-bbc3-d9719a75749c",
   "metadata": {},
   "outputs": [
    {
     "data": {
      "text/plain": [
       "array([[[[90, 45, 23, 61, 39, 83],\n",
       "         [80, 63, 37, 91, 22, 54],\n",
       "         [24, 82, 40, 11, 44, 26],\n",
       "         [49, 40, 80, 64, 17, 30],\n",
       "         [ 0, 67, 86, 58, 88, 44]],\n",
       "\n",
       "        [[69, 10,  4, 66, 29, 36],\n",
       "         [54, 81,  1, 15, 41, 14],\n",
       "         [36,  4, 58, 62, 46,  6],\n",
       "         [96, 68, 19, 65, 93, 73],\n",
       "         [95, 33, 34, 27, 84, 78]],\n",
       "\n",
       "        [[51, 87, 89, 11,  9, 23],\n",
       "         [ 3, 83, 27, 23, 41,  0],\n",
       "         [77, 85,  6, 21, 86, 17],\n",
       "         [62,  5,  3, 66,  9, 29],\n",
       "         [59, 11, 62, 64, 65, 16]],\n",
       "\n",
       "        [[62, 72, 52, 87, 53, 88],\n",
       "         [ 0, 59,  4, 65, 25, 35],\n",
       "         [ 9, 68, 70, 50, 55, 72],\n",
       "         [68, 87, 81,  3, 50, 11],\n",
       "         [57, 41, 70, 18, 67, 90]]],\n",
       "\n",
       "\n",
       "       [[[ 5, 95, 33, 90,  1, 18],\n",
       "         [62, 91, 97, 81, 99, 50],\n",
       "         [42, 86, 95, 25, 81, 87],\n",
       "         [ 4,  7, 39, 21, 61, 70],\n",
       "         [52, 49, 18, 86, 25, 84]],\n",
       "\n",
       "        [[97, 52, 62, 72, 53, 60],\n",
       "         [ 1, 36, 89, 81,  0, 48],\n",
       "         [53, 13, 58, 54, 71, 94],\n",
       "         [47, 67, 68, 31,  0, 59],\n",
       "         [76, 93, 72, 17, 49, 27]],\n",
       "\n",
       "        [[10, 16, 29, 51, 19, 50],\n",
       "         [22, 61, 21, 27, 51, 22],\n",
       "         [ 2, 14, 74, 50, 72, 55],\n",
       "         [57, 39, 41, 24, 19, 28],\n",
       "         [43, 19, 69, 70, 89, 71]],\n",
       "\n",
       "        [[85, 55, 56, 85, 42, 46],\n",
       "         [28, 34, 14,  9, 39, 65],\n",
       "         [60, 63, 25,  9, 56,  2],\n",
       "         [51, 66, 95, 41, 60,  7],\n",
       "         [70, 21, 71, 43, 49, 36]]],\n",
       "\n",
       "\n",
       "       [[[16, 14, 67, 46, 42, 98],\n",
       "         [24, 46, 56, 30, 18, 43],\n",
       "         [24, 48, 56, 51, 50, 40],\n",
       "         [68, 97, 78, 94, 72, 80],\n",
       "         [75, 81, 12, 69, 16, 72]],\n",
       "\n",
       "        [[46, 16, 48, 96, 11, 73],\n",
       "         [56,  0,  2, 52, 39, 40],\n",
       "         [88, 68, 20, 62, 16, 16],\n",
       "         [28, 23, 21, 53, 27, 11],\n",
       "         [74, 33, 86, 78, 57, 48]],\n",
       "\n",
       "        [[25, 21, 43, 43, 70, 62],\n",
       "         [93, 59, 39, 25, 54, 66],\n",
       "         [ 7, 53, 71, 36, 43, 19],\n",
       "         [84, 68, 30, 84, 45, 24],\n",
       "         [47, 92, 59, 72, 68, 71]],\n",
       "\n",
       "        [[28, 88, 91, 76, 10, 32],\n",
       "         [ 6, 27, 66, 30, 95, 21],\n",
       "         [41, 67, 45, 82, 51, 45],\n",
       "         [16, 23, 11, 53, 29, 46],\n",
       "         [12, 86, 80, 45, 96, 26]]]])"
      ]
     },
     "execution_count": 85,
     "metadata": {},
     "output_type": "execute_result"
    }
   ],
   "source": [
    "a5 = np.random.randint(100, size=(3,4,5,6))\n",
    "a5"
   ]
  },
  {
   "cell_type": "markdown",
   "id": "d841c3d0-6e0a-4295-958f-1bdc10f34ca6",
   "metadata": {},
   "source": [
    "What is Standard Deviation : https://www.mathsisfun.com/data/standard-deviation.html"
   ]
  },
  {
   "cell_type": "markdown",
   "id": "f75c0e4c-b192-4b0f-8d20-e2351ac7f75d",
   "metadata": {},
   "source": [
    "## 4.Manipulating Arrays"
   ]
  },
  {
   "cell_type": "markdown",
   "id": "b5202147-2d68-4413-9ea5-5e7a1ff35575",
   "metadata": {},
   "source": [
    "### Arithmetic"
   ]
  },
  {
   "cell_type": "code",
   "execution_count": 88,
   "id": "87e67797-c2d6-485d-97f8-ba80d43b7b4c",
   "metadata": {},
   "outputs": [
    {
     "data": {
      "text/plain": [
       "array([1, 2, 3, 4, 5])"
      ]
     },
     "execution_count": 88,
     "metadata": {},
     "output_type": "execute_result"
    }
   ],
   "source": [
    "a1"
   ]
  },
  {
   "cell_type": "code",
   "execution_count": 97,
   "id": "5b9fa4b6-b240-47ba-8b45-63f3df18061f",
   "metadata": {},
   "outputs": [
    {
     "data": {
      "text/plain": [
       "array([1., 1., 1.])"
      ]
     },
     "execution_count": 97,
     "metadata": {},
     "output_type": "execute_result"
    }
   ],
   "source": [
    "ones = np.ones(3)\n",
    "ones"
   ]
  },
  {
   "cell_type": "code",
   "execution_count": 101,
   "id": "94955a04-d78d-4070-83a8-a38438e8c0df",
   "metadata": {},
   "outputs": [
    {
     "data": {
      "text/plain": [
       "array([2., 3., 4.])"
      ]
     },
     "execution_count": 101,
     "metadata": {},
     "output_type": "execute_result"
    }
   ],
   "source": [
    "a1 + ones"
   ]
  },
  {
   "cell_type": "code",
   "execution_count": 102,
   "id": "1485da37-aeb8-49c9-9e7c-8553f3d02427",
   "metadata": {},
   "outputs": [
    {
     "data": {
      "text/plain": [
       "array([0., 1., 2.])"
      ]
     },
     "execution_count": 102,
     "metadata": {},
     "output_type": "execute_result"
    }
   ],
   "source": [
    "a1-ones"
   ]
  },
  {
   "cell_type": "code",
   "execution_count": 103,
   "id": "0e1af94e-66cf-4aa8-84da-64787db48517",
   "metadata": {},
   "outputs": [
    {
     "data": {
      "text/plain": [
       "array([1, 4, 9])"
      ]
     },
     "execution_count": 103,
     "metadata": {},
     "output_type": "execute_result"
    }
   ],
   "source": [
    "a1 * a1"
   ]
  },
  {
   "cell_type": "code",
   "execution_count": 104,
   "id": "ccdf33f7-41f7-4a50-b951-e8a94d8ddc97",
   "metadata": {},
   "outputs": [
    {
     "data": {
      "text/plain": [
       "array([[ 1. ,  4. ,  9.9],\n",
       "       [ 4. , 10. , 19.5]])"
      ]
     },
     "execution_count": 104,
     "metadata": {},
     "output_type": "execute_result"
    }
   ],
   "source": [
    "a1 * a2"
   ]
  },
  {
   "cell_type": "code",
   "execution_count": 106,
   "id": "53b0a209-64dc-4da8-966e-8096c2f88e06",
   "metadata": {},
   "outputs": [
    {
     "ename": "ValueError",
     "evalue": "operands could not be broadcast together with shapes (2,3) (2,3,3) ",
     "output_type": "error",
     "traceback": [
      "\u001b[0;31m---------------------------------------------------------------------------\u001b[0m",
      "\u001b[0;31mValueError\u001b[0m                                Traceback (most recent call last)",
      "Cell \u001b[0;32mIn[106], line 2\u001b[0m\n\u001b[1;32m      1\u001b[0m \u001b[38;5;66;03m# How can you reshape a2 to be compatible with a3?\u001b[39;00m\n\u001b[0;32m----> 2\u001b[0m a2 \u001b[38;5;241m*\u001b[39m a3\n",
      "\u001b[0;31mValueError\u001b[0m: operands could not be broadcast together with shapes (2,3) (2,3,3) "
     ]
    }
   ],
   "source": [
    "# How can you reshape a2 to be compatible with a3?\n",
    "# Search: \"How to reshape numpy array\"\n",
    "a2 * a3"
   ]
  },
  {
   "cell_type": "code",
   "execution_count": 107,
   "id": "8d4987a4-8bb1-421d-bca3-176940de28ad",
   "metadata": {},
   "outputs": [
    {
     "data": {
      "text/plain": [
       "array([1., 2., 3.])"
      ]
     },
     "execution_count": 107,
     "metadata": {},
     "output_type": "execute_result"
    }
   ],
   "source": [
    "a1 / ones"
   ]
  },
  {
   "cell_type": "code",
   "execution_count": 108,
   "id": "db11035d-e771-445f-959c-403511957a36",
   "metadata": {},
   "outputs": [
    {
     "data": {
      "text/plain": [
       "array([[1.        , 1.        , 1.1       ],\n",
       "       [4.        , 2.5       , 2.16666667]])"
      ]
     },
     "execution_count": 108,
     "metadata": {},
     "output_type": "execute_result"
    }
   ],
   "source": [
    "a2 / a1"
   ]
  },
  {
   "cell_type": "code",
   "execution_count": 109,
   "id": "7f79dbb8-8b5f-4518-85c3-db0117e55c6e",
   "metadata": {},
   "outputs": [
    {
     "data": {
      "text/plain": [
       "array([[1., 1., 1.],\n",
       "       [4., 2., 2.]])"
      ]
     },
     "execution_count": 109,
     "metadata": {},
     "output_type": "execute_result"
    }
   ],
   "source": [
    "a2 // a1"
   ]
  },
  {
   "cell_type": "code",
   "execution_count": 112,
   "id": "f79bfeac-86f1-463d-9131-3407f172db6b",
   "metadata": {},
   "outputs": [
    {
     "data": {
      "text/plain": [
       "array([[[[729000,  91125,  12167, 226981,  59319, 571787],\n",
       "         [512000, 250047,  50653, 753571,  10648, 157464],\n",
       "         [ 13824, 551368,  64000,   1331,  85184,  17576],\n",
       "         [117649,  64000, 512000, 262144,   4913,  27000],\n",
       "         [     0, 300763, 636056, 195112, 681472,  85184]],\n",
       "\n",
       "        [[328509,   1000,     64, 287496,  24389,  46656],\n",
       "         [157464, 531441,      1,   3375,  68921,   2744],\n",
       "         [ 46656,     64, 195112, 238328,  97336,    216],\n",
       "         [884736, 314432,   6859, 274625, 804357, 389017],\n",
       "         [857375,  35937,  39304,  19683, 592704, 474552]],\n",
       "\n",
       "        [[132651, 658503, 704969,   1331,    729,  12167],\n",
       "         [    27, 571787,  19683,  12167,  68921,      0],\n",
       "         [456533, 614125,    216,   9261, 636056,   4913],\n",
       "         [238328,    125,     27, 287496,    729,  24389],\n",
       "         [205379,   1331, 238328, 262144, 274625,   4096]],\n",
       "\n",
       "        [[238328, 373248, 140608, 658503, 148877, 681472],\n",
       "         [     0, 205379,     64, 274625,  15625,  42875],\n",
       "         [   729, 314432, 343000, 125000, 166375, 373248],\n",
       "         [314432, 658503, 531441,     27, 125000,   1331],\n",
       "         [185193,  68921, 343000,   5832, 300763, 729000]]],\n",
       "\n",
       "\n",
       "       [[[   125, 857375,  35937, 729000,      1,   5832],\n",
       "         [238328, 753571, 912673, 531441, 970299, 125000],\n",
       "         [ 74088, 636056, 857375,  15625, 531441, 658503],\n",
       "         [    64,    343,  59319,   9261, 226981, 343000],\n",
       "         [140608, 117649,   5832, 636056,  15625, 592704]],\n",
       "\n",
       "        [[912673, 140608, 238328, 373248, 148877, 216000],\n",
       "         [     1,  46656, 704969, 531441,      0, 110592],\n",
       "         [148877,   2197, 195112, 157464, 357911, 830584],\n",
       "         [103823, 300763, 314432,  29791,      0, 205379],\n",
       "         [438976, 804357, 373248,   4913, 117649,  19683]],\n",
       "\n",
       "        [[  1000,   4096,  24389, 132651,   6859, 125000],\n",
       "         [ 10648, 226981,   9261,  19683, 132651,  10648],\n",
       "         [     8,   2744, 405224, 125000, 373248, 166375],\n",
       "         [185193,  59319,  68921,  13824,   6859,  21952],\n",
       "         [ 79507,   6859, 328509, 343000, 704969, 357911]],\n",
       "\n",
       "        [[614125, 166375, 175616, 614125,  74088,  97336],\n",
       "         [ 21952,  39304,   2744,    729,  59319, 274625],\n",
       "         [216000, 250047,  15625,    729, 175616,      8],\n",
       "         [132651, 287496, 857375,  68921, 216000,    343],\n",
       "         [343000,   9261, 357911,  79507, 117649,  46656]]],\n",
       "\n",
       "\n",
       "       [[[  4096,   2744, 300763,  97336,  74088, 941192],\n",
       "         [ 13824,  97336, 175616,  27000,   5832,  79507],\n",
       "         [ 13824, 110592, 175616, 132651, 125000,  64000],\n",
       "         [314432, 912673, 474552, 830584, 373248, 512000],\n",
       "         [421875, 531441,   1728, 328509,   4096, 373248]],\n",
       "\n",
       "        [[ 97336,   4096, 110592, 884736,   1331, 389017],\n",
       "         [175616,      0,      8, 140608,  59319,  64000],\n",
       "         [681472, 314432,   8000, 238328,   4096,   4096],\n",
       "         [ 21952,  12167,   9261, 148877,  19683,   1331],\n",
       "         [405224,  35937, 636056, 474552, 185193, 110592]],\n",
       "\n",
       "        [[ 15625,   9261,  79507,  79507, 343000, 238328],\n",
       "         [804357, 205379,  59319,  15625, 157464, 287496],\n",
       "         [   343, 148877, 357911,  46656,  79507,   6859],\n",
       "         [592704, 314432,  27000, 592704,  91125,  13824],\n",
       "         [103823, 778688, 205379, 373248, 314432, 357911]],\n",
       "\n",
       "        [[ 21952, 681472, 753571, 438976,   1000,  32768],\n",
       "         [   216,  19683, 287496,  27000, 857375,   9261],\n",
       "         [ 68921, 300763,  91125, 551368, 132651,  91125],\n",
       "         [  4096,  12167,   1331, 148877,  24389,  97336],\n",
       "         [  1728, 636056, 512000,  91125, 884736,  17576]]]])"
      ]
     },
     "execution_count": 112,
     "metadata": {},
     "output_type": "execute_result"
    }
   ],
   "source": [
    "a5 ** 3"
   ]
  },
  {
   "cell_type": "code",
   "execution_count": 113,
   "id": "fb062e51-d3fe-4b8a-a0d8-e4ccdda8050e",
   "metadata": {},
   "outputs": [
    {
     "data": {
      "text/plain": [
       "array([[ 1.  ,  4.  , 10.89],\n",
       "       [16.  , 25.  , 42.25]])"
      ]
     },
     "execution_count": 113,
     "metadata": {},
     "output_type": "execute_result"
    }
   ],
   "source": [
    "np.square(a2)"
   ]
  },
  {
   "cell_type": "code",
   "execution_count": 116,
   "id": "6c37763a-a355-4431-8e0b-03b9a0c7412c",
   "metadata": {},
   "outputs": [
    {
     "data": {
      "text/plain": [
       "array([[[[0, 1, 1, 1, 1, 1],\n",
       "         [0, 1, 1, 1, 0, 0],\n",
       "         [0, 0, 0, 1, 0, 0],\n",
       "         [1, 0, 0, 0, 1, 0],\n",
       "         [0, 1, 0, 0, 0, 0]],\n",
       "\n",
       "        [[1, 0, 0, 0, 1, 0],\n",
       "         [0, 1, 1, 1, 1, 0],\n",
       "         [0, 0, 0, 0, 0, 0],\n",
       "         [0, 0, 1, 1, 1, 1],\n",
       "         [1, 1, 0, 1, 0, 0]],\n",
       "\n",
       "        [[1, 1, 1, 1, 1, 1],\n",
       "         [1, 1, 1, 1, 1, 0],\n",
       "         [1, 1, 0, 1, 0, 1],\n",
       "         [0, 1, 1, 0, 1, 1],\n",
       "         [1, 1, 0, 0, 1, 0]],\n",
       "\n",
       "        [[0, 0, 0, 1, 1, 0],\n",
       "         [0, 1, 0, 1, 1, 1],\n",
       "         [1, 0, 0, 0, 1, 0],\n",
       "         [0, 1, 1, 1, 0, 1],\n",
       "         [1, 1, 0, 0, 1, 0]]],\n",
       "\n",
       "\n",
       "       [[[1, 1, 1, 0, 1, 0],\n",
       "         [0, 1, 1, 1, 1, 0],\n",
       "         [0, 0, 1, 1, 1, 1],\n",
       "         [0, 1, 1, 1, 1, 0],\n",
       "         [0, 1, 0, 0, 1, 0]],\n",
       "\n",
       "        [[1, 0, 0, 0, 1, 0],\n",
       "         [1, 0, 1, 1, 0, 0],\n",
       "         [1, 1, 0, 0, 1, 0],\n",
       "         [1, 1, 0, 1, 0, 1],\n",
       "         [0, 1, 0, 1, 1, 1]],\n",
       "\n",
       "        [[0, 0, 1, 1, 1, 0],\n",
       "         [0, 1, 1, 1, 1, 0],\n",
       "         [0, 0, 0, 0, 0, 1],\n",
       "         [1, 1, 1, 0, 1, 0],\n",
       "         [1, 1, 1, 0, 1, 1]],\n",
       "\n",
       "        [[1, 1, 0, 1, 0, 0],\n",
       "         [0, 0, 0, 1, 1, 1],\n",
       "         [0, 1, 1, 1, 0, 0],\n",
       "         [1, 0, 1, 1, 0, 1],\n",
       "         [0, 1, 1, 1, 1, 0]]],\n",
       "\n",
       "\n",
       "       [[[0, 0, 1, 0, 0, 0],\n",
       "         [0, 0, 0, 0, 0, 1],\n",
       "         [0, 0, 0, 1, 0, 0],\n",
       "         [0, 1, 0, 0, 0, 0],\n",
       "         [1, 1, 0, 1, 0, 0]],\n",
       "\n",
       "        [[0, 0, 0, 0, 1, 1],\n",
       "         [0, 0, 0, 0, 1, 0],\n",
       "         [0, 0, 0, 0, 0, 0],\n",
       "         [0, 1, 1, 1, 1, 1],\n",
       "         [0, 1, 0, 0, 1, 0]],\n",
       "\n",
       "        [[1, 1, 1, 1, 0, 0],\n",
       "         [1, 1, 1, 1, 0, 0],\n",
       "         [1, 1, 1, 0, 1, 1],\n",
       "         [0, 0, 0, 0, 1, 0],\n",
       "         [1, 0, 1, 0, 0, 1]],\n",
       "\n",
       "        [[0, 0, 1, 0, 0, 0],\n",
       "         [0, 1, 0, 0, 1, 1],\n",
       "         [1, 1, 1, 0, 1, 1],\n",
       "         [0, 1, 1, 1, 1, 0],\n",
       "         [0, 0, 0, 1, 0, 0]]]])"
      ]
     },
     "execution_count": 116,
     "metadata": {},
     "output_type": "execute_result"
    }
   ],
   "source": [
    "a5 % 2"
   ]
  },
  {
   "cell_type": "code",
   "execution_count": 117,
   "id": "5f482e74-f3a9-4eda-971a-1b8b9330b5fc",
   "metadata": {},
   "outputs": [
    {
     "data": {
      "text/plain": [
       "array([ 2.71828183,  7.3890561 , 20.08553692])"
      ]
     },
     "execution_count": 117,
     "metadata": {},
     "output_type": "execute_result"
    }
   ],
   "source": [
    "np.exp(a1)"
   ]
  },
  {
   "cell_type": "code",
   "execution_count": 118,
   "id": "4e34bc3a-1ae1-445c-952f-e22a360bde2f",
   "metadata": {},
   "outputs": [
    {
     "data": {
      "text/plain": [
       "array([0.        , 0.69314718, 1.09861229])"
      ]
     },
     "execution_count": 118,
     "metadata": {},
     "output_type": "execute_result"
    }
   ],
   "source": [
    "np.log(a1)"
   ]
  },
  {
   "cell_type": "markdown",
   "id": "cbacb327-86f0-40c8-a524-9a4a7fa58cfe",
   "metadata": {},
   "source": [
    "### Aggregation\n",
    "aggregation = performing the same operation on a number of things"
   ]
  },
  {
   "cell_type": "code",
   "execution_count": 119,
   "id": "5a421826-beeb-46da-ba8c-237ae8262f89",
   "metadata": {},
   "outputs": [
    {
     "data": {
      "text/plain": [
       "list"
      ]
     },
     "execution_count": 119,
     "metadata": {},
     "output_type": "execute_result"
    },
    {
     "name": "stdout",
     "output_type": "stream",
     "text": [
      "The history saving thread hit an unexpected error (OperationalError('attempt to write a readonly database')).History will not be written to the database.\n"
     ]
    }
   ],
   "source": [
    "lis = [1,2,3]\n",
    "type(lis)"
   ]
  },
  {
   "cell_type": "code",
   "execution_count": 120,
   "id": "6cb239d4-cdff-4931-96a0-57a5724e5ba4",
   "metadata": {},
   "outputs": [
    {
     "data": {
      "text/plain": [
       "6"
      ]
     },
     "execution_count": 120,
     "metadata": {},
     "output_type": "execute_result"
    }
   ],
   "source": [
    "sum(lis)"
   ]
  },
  {
   "cell_type": "code",
   "execution_count": 121,
   "id": "6e4017c8-2695-4497-9e86-020fca3fb116",
   "metadata": {},
   "outputs": [
    {
     "data": {
      "text/plain": [
       "6"
      ]
     },
     "execution_count": 121,
     "metadata": {},
     "output_type": "execute_result"
    }
   ],
   "source": [
    "np.sum(a1)"
   ]
  },
  {
   "cell_type": "markdown",
   "id": "8808830a-29e4-4863-a503-5987822b021c",
   "metadata": {},
   "source": [
    "Use Python's methods (`sum()`) on Python datatypes and use Numpy's methods on NumpPy arrays (`np.sum()`)"
   ]
  },
  {
   "cell_type": "code",
   "execution_count": 122,
   "id": "f73d1260-5e4f-409a-aa58-35434a8fc3a7",
   "metadata": {},
   "outputs": [
    {
     "data": {
      "text/plain": [
       "100000"
      ]
     },
     "execution_count": 122,
     "metadata": {},
     "output_type": "execute_result"
    }
   ],
   "source": [
    "# create a massive Numpy array\n",
    "massive_array =  np.random.random(100000)\n",
    "massive_array.size"
   ]
  },
  {
   "cell_type": "code",
   "execution_count": 124,
   "id": "b1fccb55-b705-4ead-a1c0-f3b9c2121cd5",
   "metadata": {},
   "outputs": [
    {
     "data": {
      "text/plain": [
       "array([0.90172863, 0.84591202, 0.79507519, 0.94172845, 0.3652405 ,\n",
       "       0.0839881 , 0.8812975 , 0.82498514, 0.30165886, 0.24711162])"
      ]
     },
     "execution_count": 124,
     "metadata": {},
     "output_type": "execute_result"
    }
   ],
   "source": [
    "massive_array[:10]"
   ]
  },
  {
   "cell_type": "code",
   "execution_count": 125,
   "id": "7368d23e-5577-4e98-b0e4-eb8b84faae0b",
   "metadata": {},
   "outputs": [
    {
     "name": "stdout",
     "output_type": "stream",
     "text": [
      "3.83 ms ± 29.2 μs per loop (mean ± std. dev. of 7 runs, 100 loops each)\n",
      "18.7 μs ± 83.1 ns per loop (mean ± std. dev. of 7 runs, 100,000 loops each)\n"
     ]
    }
   ],
   "source": [
    "%timeit sum(massive_array) # Pythons's sum()\n",
    "%timeit np.sum(massive_array) # NumPy's sum()"
   ]
  },
  {
   "cell_type": "code",
   "execution_count": 126,
   "id": "ac9224a6-29e6-417c-94e7-f4aea18cb45c",
   "metadata": {},
   "outputs": [
    {
     "data": {
      "text/plain": [
       "3.6333333333333333"
      ]
     },
     "execution_count": 126,
     "metadata": {},
     "output_type": "execute_result"
    }
   ],
   "source": [
    "np.mean(a2)"
   ]
  },
  {
   "cell_type": "code",
   "execution_count": 127,
   "id": "126fb3b8-9477-463b-a110-8964f075aae5",
   "metadata": {},
   "outputs": [
    {
     "data": {
      "text/plain": [
       "6.5"
      ]
     },
     "execution_count": 127,
     "metadata": {},
     "output_type": "execute_result"
    }
   ],
   "source": [
    "np.max(a2)"
   ]
  },
  {
   "cell_type": "code",
   "execution_count": 128,
   "id": "06b11042-cfbd-4bd8-bb26-01847e5ad497",
   "metadata": {},
   "outputs": [
    {
     "data": {
      "text/plain": [
       "1.8226964152656422"
      ]
     },
     "execution_count": 128,
     "metadata": {},
     "output_type": "execute_result"
    }
   ],
   "source": [
    "# Standart deviation = a measure of  how spread out a group of numbers is from the mean\n",
    "np.std(a2)"
   ]
  },
  {
   "cell_type": "markdown",
   "id": "29a53b2c-c651-4e64-a3ec-8e4394437cdd",
   "metadata": {},
   "source": [
    "#### *variance = measure of the average degree to which each number is different to the mean*\n",
    "#### *Higher variance = Higher range of numbers*\n",
    "#### *Lower variance = lower range of numbers*"
   ]
  },
  {
   "cell_type": "code",
   "execution_count": 133,
   "id": "8c7e2ecf-f5e1-4109-b4df-bf90c61417b0",
   "metadata": {},
   "outputs": [
    {
     "data": {
      "text/plain": [
       "3.3222222222222224"
      ]
     },
     "execution_count": 133,
     "metadata": {},
     "output_type": "execute_result"
    }
   ],
   "source": [
    "np.var(a2)"
   ]
  },
  {
   "cell_type": "code",
   "execution_count": 130,
   "id": "08a7821b-855a-4794-93cd-81cd8a4a34ad",
   "metadata": {},
   "outputs": [
    {
     "data": {
      "text/plain": [
       "1.8226964152656422"
      ]
     },
     "execution_count": 130,
     "metadata": {},
     "output_type": "execute_result"
    }
   ],
   "source": [
    "# Standart deviation = squareroot of variance\n",
    "np.sqrt(np.var(a2))"
   ]
  },
  {
   "cell_type": "markdown",
   "id": "a81ad52f-5600-411d-a95a-239e1fab8cef",
   "metadata": {},
   "source": [
    "## Demo of std and var"
   ]
  },
  {
   "cell_type": "code",
   "execution_count": 131,
   "id": "9b21e151-db6b-444b-bc11-c27a0a36d074",
   "metadata": {},
   "outputs": [],
   "source": [
    "# Demo of std and var\n",
    "high_var_array = np.array([1, 100, 200, 300, 4000, 5000])\n",
    "low_var_array = np.array([2, 4, 6, 8, 10])\n"
   ]
  },
  {
   "cell_type": "code",
   "execution_count": 132,
   "id": "85760128-a9c6-4698-aadf-32cbdfd61f68",
   "metadata": {},
   "outputs": [
    {
     "data": {
      "text/plain": [
       "(4296133.472222221, 8.0)"
      ]
     },
     "execution_count": 132,
     "metadata": {},
     "output_type": "execute_result"
    }
   ],
   "source": [
    "np.var(high_var_array), np.var(low_var_array)"
   ]
  },
  {
   "cell_type": "code",
   "execution_count": 135,
   "id": "89861e76-0515-49f5-9151-19f0614045df",
   "metadata": {},
   "outputs": [
    {
     "data": {
      "text/plain": [
       "(2072.711623024829, 2.8284271247461903)"
      ]
     },
     "execution_count": 135,
     "metadata": {},
     "output_type": "execute_result"
    }
   ],
   "source": [
    "np.std(high_var_array), np.std(low_var_array)\n",
    "# average distance a number is away from the mean"
   ]
  },
  {
   "cell_type": "code",
   "execution_count": 136,
   "id": "89bb1820-f7cb-4ff5-8abc-98f1a60aaebb",
   "metadata": {},
   "outputs": [
    {
     "data": {
      "text/plain": [
       "(1600.1666666666667, 6.0)"
      ]
     },
     "execution_count": 136,
     "metadata": {},
     "output_type": "execute_result"
    }
   ],
   "source": [
    "np.mean(high_var_array), np.mean(low_var_array)"
   ]
  },
  {
   "cell_type": "code",
   "execution_count": 138,
   "id": "e23681ca-2bb0-4325-a9d9-4ea13af1d9b5",
   "metadata": {},
   "outputs": [],
   "source": [
    "import matplotlib.pyplot as plt"
   ]
  },
  {
   "cell_type": "code",
   "execution_count": 141,
   "id": "5297254a-32f2-45aa-a9b3-40ecd8d9efee",
   "metadata": {},
   "outputs": [
    {
     "data": {
      "image/png": "[encoded data removed]",
      "text/plain": [
       "<Figure size 640x480 with 1 Axes>"
      ]
     },
     "metadata": {},
     "output_type": "display_data"
    }
   ],
   "source": [
    "plt.hist(high_var_array)\n",
    "plt.show()"
   ]
  },
  {
   "cell_type": "code",
   "execution_count": 142,
   "id": "9944e293-8874-479d-bbb3-7bd0b11bad22",
   "metadata": {},
   "outputs": [
    {
     "data": {
      "image/png": "[encoded data removed]",
      "text/plain": [
       "<Figure size 640x480 with 1 Axes>"
      ]
     },
     "metadata": {},
     "output_type": "display_data"
    }
   ],
   "source": [
    "plt.hist(low_var_array)\n",
    "plt.show()"
   ]
  },
  {
   "cell_type": "markdown",
   "id": "d3ab7dfa-be6b-40a1-ac6f-07176bedb87d",
   "metadata": {},
   "source": [
    "## Reshape and Transpose"
   ]
  },
  {
   "cell_type": "code",
   "execution_count": 143,
   "id": "7a460d7d-1ac4-425d-9dd6-00fc53ee857f",
   "metadata": {},
   "outputs": [
    {
     "data": {
      "text/plain": [
       "array([[1. , 2. , 3.3],\n",
       "       [4. , 5. , 6.5]])"
      ]
     },
     "execution_count": 143,
     "metadata": {},
     "output_type": "execute_result"
    }
   ],
   "source": [
    "a2"
   ]
  },
  {
   "cell_type": "code",
   "execution_count": 145,
   "id": "0349ef8b-da31-4d98-8052-1721ea8e66e2",
   "metadata": {},
   "outputs": [
    {
     "data": {
      "text/plain": [
       "(2, 3)"
      ]
     },
     "execution_count": 145,
     "metadata": {},
     "output_type": "execute_result"
    }
   ],
   "source": [
    "a2.shape"
   ]
  },
  {
   "cell_type": "code",
   "execution_count": 146,
   "id": "160de762-2c64-44ae-8cf2-275572a38b76",
   "metadata": {},
   "outputs": [
    {
     "data": {
      "text/plain": [
       "array([[[ 1,  2,  3],\n",
       "        [ 4,  5,  6],\n",
       "        [ 7,  8,  9]],\n",
       "\n",
       "       [[10, 11, 12],\n",
       "        [13, 14, 15],\n",
       "        [16, 17, 18]]])"
      ]
     },
     "execution_count": 146,
     "metadata": {},
     "output_type": "execute_result"
    }
   ],
   "source": [
    "a3"
   ]
  },
  {
   "cell_type": "code",
   "execution_count": 147,
   "id": "9e830879-57d2-4fef-a286-611258356d81",
   "metadata": {},
   "outputs": [
    {
     "data": {
      "text/plain": [
       "(2, 3, 3)"
      ]
     },
     "execution_count": 147,
     "metadata": {},
     "output_type": "execute_result"
    }
   ],
   "source": [
    "a3.shape"
   ]
  },
  {
   "cell_type": "code",
   "execution_count": 148,
   "id": "74b1c98c-7a8c-4e79-9563-fdb155389f92",
   "metadata": {},
   "outputs": [
    {
     "data": {
      "text/plain": [
       "array([[[1. ],\n",
       "        [2. ],\n",
       "        [3.3]],\n",
       "\n",
       "       [[4. ],\n",
       "        [5. ],\n",
       "        [6.5]]])"
      ]
     },
     "execution_count": 148,
     "metadata": {},
     "output_type": "execute_result"
    }
   ],
   "source": [
    "a2.reshape((2, 3, 1))"
   ]
  },
  {
   "cell_type": "code",
   "execution_count": 150,
   "id": "12d0fa5a-b965-4af5-904e-ef3b26e0c181",
   "metadata": {},
   "outputs": [],
   "source": [
    "a2_reshape = a2.reshape(2,3,1)"
   ]
  },
  {
   "cell_type": "code",
   "execution_count": 152,
   "id": "01656aae-6ec0-4862-b56a-765a6776391e",
   "metadata": {},
   "outputs": [
    {
     "data": {
      "text/plain": [
       "array([[[  1. ,   2. ,   3. ],\n",
       "        [  8. ,  10. ,  12. ],\n",
       "        [ 23.1,  26.4,  29.7]],\n",
       "\n",
       "       [[ 40. ,  44. ,  48. ],\n",
       "        [ 65. ,  70. ,  75. ],\n",
       "        [104. , 110.5, 117. ]]])"
      ]
     },
     "execution_count": 152,
     "metadata": {},
     "output_type": "execute_result"
    }
   ],
   "source": [
    "a2_reshape * a3"
   ]
  },
  {
   "cell_type": "code",
   "execution_count": 154,
   "id": "0a9fa28d-debc-4c9b-8534-b93730c1af4d",
   "metadata": {},
   "outputs": [
    {
     "data": {
      "text/plain": [
       "array([[1. , 4. ],\n",
       "       [2. , 5. ],\n",
       "       [3.3, 6.5]])"
      ]
     },
     "execution_count": 154,
     "metadata": {},
     "output_type": "execute_result"
    }
   ],
   "source": [
    "# Transpose = switches the axis\n",
    "a2.T"
   ]
  },
  {
   "cell_type": "code",
   "execution_count": 156,
   "id": "7e9065a7-c525-4950-9e64-db1e68ed430d",
   "metadata": {},
   "outputs": [
    {
     "data": {
      "text/plain": [
       "((3, 2), (2, 3))"
      ]
     },
     "execution_count": 156,
     "metadata": {},
     "output_type": "execute_result"
    }
   ],
   "source": [
    "a2.T.shape, a2.shape"
   ]
  },
  {
   "cell_type": "code",
   "execution_count": 157,
   "id": "051023eb-6c22-4642-857c-10a4e2859acc",
   "metadata": {},
   "outputs": [
    {
     "data": {
      "text/plain": [
       "(2, 3, 3)"
      ]
     },
     "execution_count": 157,
     "metadata": {},
     "output_type": "execute_result"
    }
   ],
   "source": [
    "a3.shape"
   ]
  },
  {
   "cell_type": "code",
   "execution_count": 158,
   "id": "a295ddff-7956-4e5e-ab3f-04d98c79ca70",
   "metadata": {},
   "outputs": [
    {
     "data": {
      "text/plain": [
       "array([[[ 1, 10],\n",
       "        [ 4, 13],\n",
       "        [ 7, 16]],\n",
       "\n",
       "       [[ 2, 11],\n",
       "        [ 5, 14],\n",
       "        [ 8, 17]],\n",
       "\n",
       "       [[ 3, 12],\n",
       "        [ 6, 15],\n",
       "        [ 9, 18]]])"
      ]
     },
     "execution_count": 158,
     "metadata": {},
     "output_type": "execute_result"
    }
   ],
   "source": [
    "a3.T"
   ]
  },
  {
   "cell_type": "code",
   "execution_count": 159,
   "id": "41a887f2-b1b1-436e-bac8-7e66e39210e4",
   "metadata": {},
   "outputs": [
    {
     "data": {
      "text/plain": [
       "(3, 3, 2)"
      ]
     },
     "execution_count": 159,
     "metadata": {},
     "output_type": "execute_result"
    }
   ],
   "source": [
    "a3.T.shape"
   ]
  },
  {
   "cell_type": "markdown",
   "id": "6dc0ac47-85f2-482e-8f3f-bbb72d31bc96",
   "metadata": {},
   "source": [
    "Matrix Manipulation Explained : https://www.mathsisfun.com/algebra/matrix-multiplying.html"
   ]
  },
  {
   "cell_type": "markdown",
   "id": "9d7093d6-f9d4-4749-a5e6-15c0f74a157c",
   "metadata": {},
   "source": [
    "## Dot Product"
   ]
  },
  {
   "cell_type": "code",
   "execution_count": 168,
   "id": "3615a851-315f-463f-adc3-3e1faecd09d5",
   "metadata": {},
   "outputs": [],
   "source": [
    "np.random.seed(0)\n",
    "\n",
    "mat1 = np.random.randint(10, size=(5, 3))\n",
    "mat2 = np.random.randint(10, size=(5, 3))"
   ]
  },
  {
   "cell_type": "code",
   "execution_count": 169,
   "id": "eb810714-432a-479f-bcc9-e58fa7d8324a",
   "metadata": {},
   "outputs": [
    {
     "data": {
      "text/plain": [
       "(array([[5, 0, 3],\n",
       "        [3, 7, 9],\n",
       "        [3, 5, 2],\n",
       "        [4, 7, 6],\n",
       "        [8, 8, 1]]),\n",
       " array([[6, 7, 7],\n",
       "        [8, 1, 5],\n",
       "        [9, 8, 9],\n",
       "        [4, 3, 0],\n",
       "        [3, 5, 0]]))"
      ]
     },
     "execution_count": 169,
     "metadata": {},
     "output_type": "execute_result"
    }
   ],
   "source": [
    "mat1, mat2"
   ]
  },
  {
   "cell_type": "code",
   "execution_count": 170,
   "id": "1803d843-deb1-42fd-8fc9-3c7432084503",
   "metadata": {},
   "outputs": [
    {
     "data": {
      "text/plain": [
       "array([[30,  0, 21],\n",
       "       [24,  7, 45],\n",
       "       [27, 40, 18],\n",
       "       [16, 21,  0],\n",
       "       [24, 40,  0]])"
      ]
     },
     "execution_count": 170,
     "metadata": {},
     "output_type": "execute_result"
    }
   ],
   "source": [
    "# element-wise multiplication (Hadamard product)\n",
    "mat1 * mat2"
   ]
  },
  {
   "cell_type": "markdown",
   "id": "42df1e67-3d4f-40ed-9a57-e82e6ef17e4f",
   "metadata": {},
   "source": [
    "![](dot-product-visual.jpg)"
   ]
  },
  {
   "cell_type": "markdown",
   "id": "b3fd658e-ce52-4ca1-9a27-55d8ecf7f30f",
   "metadata": {},
   "source": [
    "visual demonstration: www.matrixmultiplication.xyz"
   ]
  },
  {
   "cell_type": "code",
   "execution_count": 172,
   "id": "8fe27553-8b39-4125-ab10-5092c68d7f4e",
   "metadata": {},
   "outputs": [
    {
     "ename": "ValueError",
     "evalue": "shapes (5,3) and (5,3) not aligned: 3 (dim 1) != 5 (dim 0)",
     "output_type": "error",
     "traceback": [
      "\u001b[0;31m---------------------------------------------------------------------------\u001b[0m",
      "\u001b[0;31mValueError\u001b[0m                                Traceback (most recent call last)",
      "Cell \u001b[0;32mIn[172], line 2\u001b[0m\n\u001b[1;32m      1\u001b[0m \u001b[38;5;66;03m# Dot product\u001b[39;00m\n\u001b[0;32m----> 2\u001b[0m np\u001b[38;5;241m.\u001b[39mdot(mat1, mat2)\n",
      "\u001b[0;31mValueError\u001b[0m: shapes (5,3) and (5,3) not aligned: 3 (dim 1) != 5 (dim 0)"
     ]
    }
   ],
   "source": [
    "# Dot product\n",
    "np.dot(mat1, mat2)"
   ]
  },
  {
   "cell_type": "code",
   "execution_count": 175,
   "id": "97e57554-8ba1-4342-bb12-8703fa1f14df",
   "metadata": {},
   "outputs": [
    {
     "data": {
      "text/plain": [
       "array([[5, 3, 3, 4, 8],\n",
       "       [0, 7, 5, 7, 8],\n",
       "       [3, 9, 2, 6, 1]])"
      ]
     },
     "execution_count": 175,
     "metadata": {},
     "output_type": "execute_result"
    }
   ],
   "source": [
    "# Transpose mat1\n",
    "mat1.T"
   ]
  },
  {
   "cell_type": "code",
   "execution_count": 176,
   "id": "8942e94d-233e-4bfc-9fd9-0d5c0f139e0a",
   "metadata": {},
   "outputs": [
    {
     "data": {
      "text/plain": [
       "((3, 5), (5, 3))"
      ]
     },
     "execution_count": 176,
     "metadata": {},
     "output_type": "execute_result"
    }
   ],
   "source": [
    "mat1.T.shape, mat2.shape"
   ]
  },
  {
   "cell_type": "code",
   "execution_count": 178,
   "id": "393a7014-7edf-489b-9f3d-d1121e6da55f",
   "metadata": {},
   "outputs": [
    {
     "data": {
      "text/plain": [
       "array([[ 51,  55,  72,  20,  15],\n",
       "       [130,  76, 164,  33,  44],\n",
       "       [ 67,  39,  85,  27,  34],\n",
       "       [115,  69, 146,  37,  47],\n",
       "       [111,  77, 145,  56,  64]])"
      ]
     },
     "execution_count": 178,
     "metadata": {},
     "output_type": "execute_result"
    }
   ],
   "source": [
    "mat3 = np.dot(mat1, mat2.T)\n",
    "mat3"
   ]
  },
  {
   "cell_type": "code",
   "execution_count": 179,
   "id": "875437cb-5f1c-42d4-8317-3629c470f5d8",
   "metadata": {},
   "outputs": [
    {
     "data": {
      "text/plain": [
       "(5, 5)"
      ]
     },
     "execution_count": 179,
     "metadata": {},
     "output_type": "execute_result"
    }
   ],
   "source": [
    "mat3.shape"
   ]
  },
  {
   "cell_type": "markdown",
   "id": "1acd6abf-c616-4e9b-8dbe-3e38234cecb0",
   "metadata": {},
   "source": [
    "# Exercise: Nut Butter Store Sales"
   ]
  },
  {
   "cell_type": "code",
   "execution_count": 196,
   "id": "5dd912d6-fb9a-4365-bf91-0d6438132171",
   "metadata": {},
   "outputs": [
    {
     "data": {
      "text/plain": [
       "array([[12, 15,  0],\n",
       "       [ 3,  3,  7],\n",
       "       [ 9, 19, 18],\n",
       "       [ 4,  6, 12],\n",
       "       [ 1,  6,  7]])"
      ]
     },
     "execution_count": 196,
     "metadata": {},
     "output_type": "execute_result"
    }
   ],
   "source": [
    "np.random.seed(0)\n",
    "# Number of jars sold\n",
    "sales_amounts = np.random.randint(20, size=(5,3))\n",
    "sales_amounts"
   ]
  },
  {
   "cell_type": "code",
   "execution_count": 197,
   "id": "dbec01b6-d930-46f0-a319-ec20d8d784d8",
   "metadata": {},
   "outputs": [
    {
     "data": {
      "text/html": [
       "<div>\n",
       "<style scoped>\n",
       "    .dataframe tbody tr th:only-of-type {\n",
       "        vertical-align: middle;\n",
       "    }\n",
       "\n",
       "    .dataframe tbody tr th {\n",
       "        vertical-align: top;\n",
       "    }\n",
       "\n",
       "    .dataframe thead th {\n",
       "        text-align: right;\n",
       "    }\n",
       "</style>\n",
       "<table border=\"1\" class=\"dataframe\">\n",
       "  <thead>\n",
       "    <tr style=\"text-align: right;\">\n",
       "      <th></th>\n",
       "      <th>Almond butter</th>\n",
       "      <th>Peanut butter</th>\n",
       "      <th>Cahew butter</th>\n",
       "    </tr>\n",
       "  </thead>\n",
       "  <tbody>\n",
       "    <tr>\n",
       "      <th>Mon</th>\n",
       "      <td>12</td>\n",
       "      <td>15</td>\n",
       "      <td>0</td>\n",
       "    </tr>\n",
       "    <tr>\n",
       "      <th>Tue</th>\n",
       "      <td>3</td>\n",
       "      <td>3</td>\n",
       "      <td>7</td>\n",
       "    </tr>\n",
       "    <tr>\n",
       "      <th>Wed</th>\n",
       "      <td>9</td>\n",
       "      <td>19</td>\n",
       "      <td>18</td>\n",
       "    </tr>\n",
       "    <tr>\n",
       "      <th>Thu</th>\n",
       "      <td>4</td>\n",
       "      <td>6</td>\n",
       "      <td>12</td>\n",
       "    </tr>\n",
       "    <tr>\n",
       "      <th>Fri</th>\n",
       "      <td>1</td>\n",
       "      <td>6</td>\n",
       "      <td>7</td>\n",
       "    </tr>\n",
       "  </tbody>\n",
       "</table>\n",
       "</div>"
      ],
      "text/plain": [
       "     Almond butter  Peanut butter  Cahew butter\n",
       "Mon             12             15             0\n",
       "Tue              3              3             7\n",
       "Wed              9             19            18\n",
       "Thu              4              6            12\n",
       "Fri              1              6             7"
      ]
     },
     "execution_count": 197,
     "metadata": {},
     "output_type": "execute_result"
    }
   ],
   "source": [
    "# Create weekly sales dataframe\n",
    "weekly_sales = pd.DataFrame(sales_amounts, index=['Mon', 'Tue', 'Wed', 'Thu', 'Fri'],\n",
    "                           columns=['Almond butter', 'Peanut butter', 'Cahew butter'])\n",
    "weekly_sales"
   ]
  },
  {
   "cell_type": "code",
   "execution_count": 198,
   "id": "ea52e9a9-668f-4c06-8d9a-23a93fb65a3a",
   "metadata": {},
   "outputs": [
    {
     "data": {
      "text/plain": [
       "array([10,  8, 12])"
      ]
     },
     "execution_count": 198,
     "metadata": {},
     "output_type": "execute_result"
    }
   ],
   "source": [
    "# Create prices array\n",
    "prices = np.array([10, 8, 12])\n",
    "prices"
   ]
  },
  {
   "cell_type": "code",
   "execution_count": 199,
   "id": "579d21d5-fd20-41e2-aac4-b11f1874bf9f",
   "metadata": {},
   "outputs": [
    {
     "data": {
      "text/html": [
       "<div>\n",
       "<style scoped>\n",
       "    .dataframe tbody tr th:only-of-type {\n",
       "        vertical-align: middle;\n",
       "    }\n",
       "\n",
       "    .dataframe tbody tr th {\n",
       "        vertical-align: top;\n",
       "    }\n",
       "\n",
       "    .dataframe thead th {\n",
       "        text-align: right;\n",
       "    }\n",
       "</style>\n",
       "<table border=\"1\" class=\"dataframe\">\n",
       "  <thead>\n",
       "    <tr style=\"text-align: right;\">\n",
       "      <th></th>\n",
       "      <th>Almond butter</th>\n",
       "      <th>Peanut butter</th>\n",
       "      <th>Cahew butter</th>\n",
       "    </tr>\n",
       "  </thead>\n",
       "  <tbody>\n",
       "    <tr>\n",
       "      <th>Price</th>\n",
       "      <td>10</td>\n",
       "      <td>8</td>\n",
       "      <td>12</td>\n",
       "    </tr>\n",
       "  </tbody>\n",
       "</table>\n",
       "</div>"
      ],
      "text/plain": [
       "       Almond butter  Peanut butter  Cahew butter\n",
       "Price             10              8            12"
      ]
     },
     "execution_count": 199,
     "metadata": {},
     "output_type": "execute_result"
    }
   ],
   "source": [
    "# Create butter_prices DataFrame\n",
    "butter_prices = pd.DataFrame(prices.reshape(1, 3), index=[\"Price\"], columns=['Almond butter', 'Peanut butter', 'Cahew butter'])\n",
    "butter_prices"
   ]
  },
  {
   "cell_type": "code",
   "execution_count": 200,
   "id": "95d92036-07c4-4200-bd06-0522f9a7192d",
   "metadata": {},
   "outputs": [
    {
     "data": {
      "text/plain": [
       "array([240, 138, 458, 232, 142])"
      ]
     },
     "execution_count": 200,
     "metadata": {},
     "output_type": "execute_result"
    }
   ],
   "source": [
    "# Shape aren't aligned, let's transpose\n",
    "total_sales = prices.dot(sales_amounts.T)\n",
    "total_sales"
   ]
  },
  {
   "cell_type": "code",
   "execution_count": 201,
   "id": "252c878f-095b-414c-9527-9596e6d03cb0",
   "metadata": {},
   "outputs": [
    {
     "data": {
      "text/html": [
       "<div>\n",
       "<style scoped>\n",
       "    .dataframe tbody tr th:only-of-type {\n",
       "        vertical-align: middle;\n",
       "    }\n",
       "\n",
       "    .dataframe tbody tr th {\n",
       "        vertical-align: top;\n",
       "    }\n",
       "\n",
       "    .dataframe thead th {\n",
       "        text-align: right;\n",
       "    }\n",
       "</style>\n",
       "<table border=\"1\" class=\"dataframe\">\n",
       "  <thead>\n",
       "    <tr style=\"text-align: right;\">\n",
       "      <th></th>\n",
       "      <th>Almond butter</th>\n",
       "      <th>Peanut butter</th>\n",
       "      <th>Cahew butter</th>\n",
       "    </tr>\n",
       "  </thead>\n",
       "  <tbody>\n",
       "    <tr>\n",
       "      <th>Price</th>\n",
       "      <td>10</td>\n",
       "      <td>8</td>\n",
       "      <td>12</td>\n",
       "    </tr>\n",
       "  </tbody>\n",
       "</table>\n",
       "</div>"
      ],
      "text/plain": [
       "       Almond butter  Peanut butter  Cahew butter\n",
       "Price             10              8            12"
      ]
     },
     "execution_count": 201,
     "metadata": {},
     "output_type": "execute_result"
    }
   ],
   "source": [
    "# Create daily_slaes\n",
    "butter_prices"
   ]
  },
  {
   "cell_type": "code",
   "execution_count": 202,
   "id": "a0a5b33b-ffea-4a22-98c9-6bf8c49ace27",
   "metadata": {},
   "outputs": [
    {
     "data": {
      "text/html": [
       "<div>\n",
       "<style scoped>\n",
       "    .dataframe tbody tr th:only-of-type {\n",
       "        vertical-align: middle;\n",
       "    }\n",
       "\n",
       "    .dataframe tbody tr th {\n",
       "        vertical-align: top;\n",
       "    }\n",
       "\n",
       "    .dataframe thead th {\n",
       "        text-align: right;\n",
       "    }\n",
       "</style>\n",
       "<table border=\"1\" class=\"dataframe\">\n",
       "  <thead>\n",
       "    <tr style=\"text-align: right;\">\n",
       "      <th></th>\n",
       "      <th>Almond butter</th>\n",
       "      <th>Peanut butter</th>\n",
       "      <th>Cahew butter</th>\n",
       "    </tr>\n",
       "  </thead>\n",
       "  <tbody>\n",
       "    <tr>\n",
       "      <th>Mon</th>\n",
       "      <td>12</td>\n",
       "      <td>15</td>\n",
       "      <td>0</td>\n",
       "    </tr>\n",
       "    <tr>\n",
       "      <th>Tue</th>\n",
       "      <td>3</td>\n",
       "      <td>3</td>\n",
       "      <td>7</td>\n",
       "    </tr>\n",
       "    <tr>\n",
       "      <th>Wed</th>\n",
       "      <td>9</td>\n",
       "      <td>19</td>\n",
       "      <td>18</td>\n",
       "    </tr>\n",
       "    <tr>\n",
       "      <th>Thu</th>\n",
       "      <td>4</td>\n",
       "      <td>6</td>\n",
       "      <td>12</td>\n",
       "    </tr>\n",
       "    <tr>\n",
       "      <th>Fri</th>\n",
       "      <td>1</td>\n",
       "      <td>6</td>\n",
       "      <td>7</td>\n",
       "    </tr>\n",
       "  </tbody>\n",
       "</table>\n",
       "</div>"
      ],
      "text/plain": [
       "     Almond butter  Peanut butter  Cahew butter\n",
       "Mon             12             15             0\n",
       "Tue              3              3             7\n",
       "Wed              9             19            18\n",
       "Thu              4              6            12\n",
       "Fri              1              6             7"
      ]
     },
     "execution_count": 202,
     "metadata": {},
     "output_type": "execute_result"
    }
   ],
   "source": [
    "weekly_sales"
   ]
  },
  {
   "cell_type": "code",
   "execution_count": 203,
   "id": "43cf2bd5-71fa-45d5-9234-cdae30d476dc",
   "metadata": {},
   "outputs": [
    {
     "data": {
      "text/plain": [
       "((1, 3), (5, 3))"
      ]
     },
     "execution_count": 203,
     "metadata": {},
     "output_type": "execute_result"
    }
   ],
   "source": [
    "butter_prices.shape, weekly_sales.shape"
   ]
  },
  {
   "cell_type": "code",
   "execution_count": 204,
   "id": "5757320d-b9e6-4f31-be32-b9a82fc7608a",
   "metadata": {},
   "outputs": [
    {
     "data": {
      "text/html": [
       "<div>\n",
       "<style scoped>\n",
       "    .dataframe tbody tr th:only-of-type {\n",
       "        vertical-align: middle;\n",
       "    }\n",
       "\n",
       "    .dataframe tbody tr th {\n",
       "        vertical-align: top;\n",
       "    }\n",
       "\n",
       "    .dataframe thead th {\n",
       "        text-align: right;\n",
       "    }\n",
       "</style>\n",
       "<table border=\"1\" class=\"dataframe\">\n",
       "  <thead>\n",
       "    <tr style=\"text-align: right;\">\n",
       "      <th></th>\n",
       "      <th>Mon</th>\n",
       "      <th>Tue</th>\n",
       "      <th>Wed</th>\n",
       "      <th>Thu</th>\n",
       "      <th>Fri</th>\n",
       "    </tr>\n",
       "  </thead>\n",
       "  <tbody>\n",
       "    <tr>\n",
       "      <th>Price</th>\n",
       "      <td>240</td>\n",
       "      <td>138</td>\n",
       "      <td>458</td>\n",
       "      <td>232</td>\n",
       "      <td>142</td>\n",
       "    </tr>\n",
       "  </tbody>\n",
       "</table>\n",
       "</div>"
      ],
      "text/plain": [
       "       Mon  Tue  Wed  Thu  Fri\n",
       "Price  240  138  458  232  142"
      ]
     },
     "execution_count": 204,
     "metadata": {},
     "output_type": "execute_result"
    }
   ],
   "source": [
    "daily_sales = butter_prices.dot(weekly_sales.T)\n",
    "daily_sales"
   ]
  },
  {
   "cell_type": "code",
   "execution_count": 208,
   "id": "b4b39d60-8888-451e-b826-718eb60e8f19",
   "metadata": {},
   "outputs": [
    {
     "data": {
      "text/html": [
       "<div>\n",
       "<style scoped>\n",
       "    .dataframe tbody tr th:only-of-type {\n",
       "        vertical-align: middle;\n",
       "    }\n",
       "\n",
       "    .dataframe tbody tr th {\n",
       "        vertical-align: top;\n",
       "    }\n",
       "\n",
       "    .dataframe thead th {\n",
       "        text-align: right;\n",
       "    }\n",
       "</style>\n",
       "<table border=\"1\" class=\"dataframe\">\n",
       "  <thead>\n",
       "    <tr style=\"text-align: right;\">\n",
       "      <th></th>\n",
       "      <th>Almond butter</th>\n",
       "      <th>Peanut butter</th>\n",
       "      <th>Cahew butter</th>\n",
       "      <th>Total ($)</th>\n",
       "    </tr>\n",
       "  </thead>\n",
       "  <tbody>\n",
       "    <tr>\n",
       "      <th>Mon</th>\n",
       "      <td>12</td>\n",
       "      <td>15</td>\n",
       "      <td>0</td>\n",
       "      <td>240</td>\n",
       "    </tr>\n",
       "    <tr>\n",
       "      <th>Tue</th>\n",
       "      <td>3</td>\n",
       "      <td>3</td>\n",
       "      <td>7</td>\n",
       "      <td>138</td>\n",
       "    </tr>\n",
       "    <tr>\n",
       "      <th>Wed</th>\n",
       "      <td>9</td>\n",
       "      <td>19</td>\n",
       "      <td>18</td>\n",
       "      <td>458</td>\n",
       "    </tr>\n",
       "    <tr>\n",
       "      <th>Thu</th>\n",
       "      <td>4</td>\n",
       "      <td>6</td>\n",
       "      <td>12</td>\n",
       "      <td>232</td>\n",
       "    </tr>\n",
       "    <tr>\n",
       "      <th>Fri</th>\n",
       "      <td>1</td>\n",
       "      <td>6</td>\n",
       "      <td>7</td>\n",
       "      <td>142</td>\n",
       "    </tr>\n",
       "  </tbody>\n",
       "</table>\n",
       "</div>"
      ],
      "text/plain": [
       "     Almond butter  Peanut butter  Cahew butter  Total ($)\n",
       "Mon             12             15             0        240\n",
       "Tue              3              3             7        138\n",
       "Wed              9             19            18        458\n",
       "Thu              4              6            12        232\n",
       "Fri              1              6             7        142"
      ]
     },
     "execution_count": 208,
     "metadata": {},
     "output_type": "execute_result"
    }
   ],
   "source": [
    "# need match the shape so transpose\n",
    "weekly_sales['Total ($)'] = daily_sales.T\n",
    "weekly_sales"
   ]
  },
  {
   "cell_type": "markdown",
   "id": "5879d65f-6927-460c-8f6e-a0af793a5536",
   "metadata": {},
   "source": [
    "## Comparison Operators"
   ]
  },
  {
   "cell_type": "code",
   "execution_count": 210,
   "id": "3cddc1be-2df8-4ee9-93b7-84bcd27d33e2",
   "metadata": {},
   "outputs": [
    {
     "data": {
      "text/plain": [
       "array([1, 2, 3])"
      ]
     },
     "execution_count": 210,
     "metadata": {},
     "output_type": "execute_result"
    }
   ],
   "source": [
    "a1"
   ]
  },
  {
   "cell_type": "code",
   "execution_count": 211,
   "id": "ed339fbf-c787-4657-bd76-1b92f154fc6c",
   "metadata": {},
   "outputs": [
    {
     "data": {
      "text/plain": [
       "array([[1. , 2. , 3.3],\n",
       "       [4. , 5. , 6.5]])"
      ]
     },
     "execution_count": 211,
     "metadata": {},
     "output_type": "execute_result"
    }
   ],
   "source": [
    "a2"
   ]
  },
  {
   "cell_type": "code",
   "execution_count": 212,
   "id": "9c7eb99a-84b2-47a9-b006-64c412a179d2",
   "metadata": {},
   "outputs": [
    {
     "data": {
      "text/plain": [
       "array([[False, False, False],\n",
       "       [False, False, False]])"
      ]
     },
     "execution_count": 212,
     "metadata": {},
     "output_type": "execute_result"
    }
   ],
   "source": [
    "a1 > a2"
   ]
  },
  {
   "cell_type": "code",
   "execution_count": 213,
   "id": "0182797d-07e4-4d61-ac31-b62a1d91b405",
   "metadata": {},
   "outputs": [
    {
     "data": {
      "text/plain": [
       "array([[False, False,  True],\n",
       "       [ True,  True,  True]])"
      ]
     },
     "execution_count": 213,
     "metadata": {},
     "output_type": "execute_result"
    }
   ],
   "source": [
    "a2 > a1"
   ]
  },
  {
   "cell_type": "code",
   "execution_count": 215,
   "id": "515237e4-88f6-4688-98dc-4c67dd23993c",
   "metadata": {},
   "outputs": [
    {
     "data": {
      "text/plain": [
       "array([[ True,  True, False],\n",
       "       [False, False, False]])"
      ]
     },
     "execution_count": 215,
     "metadata": {},
     "output_type": "execute_result"
    }
   ],
   "source": [
    "bool_array = a1>=a2\n",
    "bool_array"
   ]
  },
  {
   "cell_type": "code",
   "execution_count": 216,
   "id": "38c6e6fe-7d25-4fad-9b55-e90e0ead6bcd",
   "metadata": {},
   "outputs": [
    {
     "data": {
      "text/plain": [
       "array([[False, False, False],\n",
       "       [False, False,  True]])"
      ]
     },
     "execution_count": 216,
     "metadata": {},
     "output_type": "execute_result"
    }
   ],
   "source": [
    "a2 > 5"
   ]
  },
  {
   "cell_type": "code",
   "execution_count": 217,
   "id": "e2ca61fb-4ddc-4cc9-adb9-292b8f806101",
   "metadata": {},
   "outputs": [
    {
     "data": {
      "text/plain": [
       "array([[ True,  True, False],\n",
       "       [False, False, False]])"
      ]
     },
     "execution_count": 217,
     "metadata": {},
     "output_type": "execute_result"
    }
   ],
   "source": [
    "a1 == a2"
   ]
  },
  {
   "cell_type": "markdown",
   "id": "fdc67406-d352-4509-a2c6-e9fd8e482f36",
   "metadata": {},
   "source": [
    "## 5. Sorting array"
   ]
  },
  {
   "cell_type": "code",
   "execution_count": 221,
   "id": "d4a79640-43d0-4696-ab0b-07fb22ce38b4",
   "metadata": {},
   "outputs": [
    {
     "data": {
      "text/plain": [
       "array([[1, 7, 9, 9, 3],\n",
       "       [6, 7, 2, 0, 3],\n",
       "       [5, 9, 4, 4, 6]])"
      ]
     },
     "execution_count": 221,
     "metadata": {},
     "output_type": "execute_result"
    }
   ],
   "source": [
    "random_array = np.random.randint(10, size=(3, 5))\n",
    "random_array"
   ]
  },
  {
   "cell_type": "code",
   "execution_count": 222,
   "id": "fcf2ebb2-41c6-45df-93cb-69033ae0ae42",
   "metadata": {},
   "outputs": [
    {
     "data": {
      "text/plain": [
       "array([[1, 3, 7, 9, 9],\n",
       "       [0, 2, 3, 6, 7],\n",
       "       [4, 4, 5, 6, 9]])"
      ]
     },
     "execution_count": 222,
     "metadata": {},
     "output_type": "execute_result"
    }
   ],
   "source": [
    "np.sort(random_array)"
   ]
  },
  {
   "cell_type": "code",
   "execution_count": 235,
   "id": "5f8d2448-195a-44ff-8d82-3b77e373d453",
   "metadata": {},
   "outputs": [
    {
     "data": {
      "text/plain": [
       "(array([[1, 7, 9, 9, 3],\n",
       "        [6, 7, 2, 0, 3],\n",
       "        [5, 9, 4, 4, 6]]),\n",
       " 'argsort',\n",
       " array([[0, 4, 1, 2, 3],\n",
       "        [3, 2, 4, 0, 1],\n",
       "        [2, 3, 0, 4, 1]]))"
      ]
     },
     "execution_count": 235,
     "metadata": {},
     "output_type": "execute_result"
    }
   ],
   "source": [
    "random_array, \"argsort\", np.argsort(random_array)"
   ]
  },
  {
   "cell_type": "code",
   "execution_count": 238,
   "id": "3122dd00-03f8-4d88-a4ac-594ceac4be64",
   "metadata": {},
   "outputs": [
    {
     "data": {
      "text/plain": [
       "(8, 0)"
      ]
     },
     "execution_count": 238,
     "metadata": {},
     "output_type": "execute_result"
    }
   ],
   "source": [
    "#index of minimum number\n",
    "np.argmin(random_array), np.min(random_array)"
   ]
  },
  {
   "cell_type": "code",
   "execution_count": 243,
   "id": "ffb84d59-9aa3-4301-8f73-7bcb5308a270",
   "metadata": {},
   "outputs": [
    {
     "data": {
      "text/plain": [
       "array([[1, 7, 9, 9, 3],\n",
       "       [6, 7, 2, 0, 3],\n",
       "       [5, 9, 4, 4, 6]])"
      ]
     },
     "execution_count": 243,
     "metadata": {},
     "output_type": "execute_result"
    }
   ],
   "source": [
    "random_array"
   ]
  },
  {
   "cell_type": "code",
   "execution_count": 241,
   "id": "61441813-437a-4818-b3b0-032933940e17",
   "metadata": {},
   "outputs": [
    {
     "data": {
      "text/plain": [
       "(array([0, 0, 1, 1, 0]), array([0, 3, 2]))"
      ]
     },
     "execution_count": 241,
     "metadata": {},
     "output_type": "execute_result"
    }
   ],
   "source": [
    "np.argmin(random_array, axis=0), np.argmin(random_array, axis=1)"
   ]
  },
  {
   "cell_type": "code",
   "execution_count": 242,
   "id": "a0c6c2a7-0202-4592-a2b7-0d18cf5e3d8a",
   "metadata": {},
   "outputs": [
    {
     "data": {
      "text/plain": [
       "(array([1, 2, 0, 0, 2]), array([2, 1, 1]))"
      ]
     },
     "execution_count": 242,
     "metadata": {},
     "output_type": "execute_result"
    }
   ],
   "source": [
    "np.argmax(random_array, axis=0), np.argmax(random_array, axis=1)"
   ]
  },
  {
   "cell_type": "markdown",
   "id": "19187346-55da-4cc4-ad7d-2327cb6c87cd",
   "metadata": {},
   "source": [
    "# Turn Images into NumPy Arrays"
   ]
  },
  {
   "cell_type": "markdown",
   "id": "7f24e0f7-fd5b-4cdd-9943-62f56f468fe2",
   "metadata": {},
   "source": [
    "<img src=\"np-images/panda.png\"/>"
   ]
  },
  {
   "cell_type": "code",
   "execution_count": 250,
   "id": "0863d7b7-bbcd-4a0d-964d-549dc8a16c3c",
   "metadata": {},
   "outputs": [
    {
     "name": "stdout",
     "output_type": "stream",
     "text": [
      "<class 'numpy.ndarray'>\n"
     ]
    }
   ],
   "source": [
    "# Turn an image into a NumPy array\n",
    "from matplotlib.image import imread\n",
    "\n",
    "panda = imread(\"np-images/panda.png\")\n",
    "print(type(panda))"
   ]
  },
  {
   "cell_type": "code",
   "execution_count": 251,
   "id": "0e504f0d-6100-450e-ab44-891c15f97480",
   "metadata": {},
   "outputs": [
    {
     "data": {
      "text/plain": [
       "(24465000, (2330, 3500, 3), (2330, 3500, 3))"
      ]
     },
     "execution_count": 251,
     "metadata": {},
     "output_type": "execute_result"
    }
   ],
   "source": [
    "panda.size, panda.shape, panda.shape"
   ]
  },
  {
   "cell_type": "code",
   "execution_count": 258,
   "id": "abeac1c5-c3c2-465e-8cd5-f605f87330b3",
   "metadata": {},
   "outputs": [
    {
     "data": {
      "text/plain": [
       "array([[[0.05490196, 0.10588235, 0.06666667],\n",
       "        [0.05490196, 0.10588235, 0.06666667],\n",
       "        [0.05490196, 0.10588235, 0.06666667],\n",
       "        ...,\n",
       "        [0.16470589, 0.12941177, 0.09411765],\n",
       "        [0.16470589, 0.12941177, 0.09411765],\n",
       "        [0.16470589, 0.12941177, 0.09411765]]], dtype=float32)"
      ]
     },
     "execution_count": 258,
     "metadata": {},
     "output_type": "execute_result"
    }
   ],
   "source": [
    "panda[:1]"
   ]
  },
  {
   "cell_type": "markdown",
   "id": "dd050579-4d70-4501-9b02-fc6a0407cf08",
   "metadata": {},
   "source": [
    "<img src=\"np-images/car-photo.png\"/>"
   ]
  },
  {
   "cell_type": "code",
   "execution_count": 255,
   "id": "33351af5-af86-4c45-a08e-56089feb2142",
   "metadata": {},
   "outputs": [],
   "source": [
    "car = imread(\"np-images/car-photo.png\")"
   ]
  },
  {
   "cell_type": "code",
   "execution_count": 256,
   "id": "6f235111-7fdb-49be-bcb7-51ed36cd1eb7",
   "metadata": {},
   "outputs": [
    {
     "data": {
      "text/plain": [
       "(991300, (431, 575, 4), 3)"
      ]
     },
     "execution_count": 256,
     "metadata": {},
     "output_type": "execute_result"
    }
   ],
   "source": [
    "car.size, car.shape, car.ndim"
   ]
  },
  {
   "cell_type": "code",
   "execution_count": 259,
   "id": "4e81664d-86eb-4903-8930-64440dc244ee",
   "metadata": {},
   "outputs": [
    {
     "data": {
      "text/plain": [
       "array([[[0.5019608 , 0.50980395, 0.4862745 , 1.        ],\n",
       "        [0.3372549 , 0.34509805, 0.30588236, 1.        ],\n",
       "        [0.20392157, 0.21568628, 0.14901961, 1.        ],\n",
       "        ...,\n",
       "        [0.64705884, 0.7058824 , 0.54901963, 1.        ],\n",
       "        [0.59607846, 0.63529414, 0.45882353, 1.        ],\n",
       "        [0.44705883, 0.47058824, 0.3372549 , 1.        ]]], dtype=float32)"
      ]
     },
     "execution_count": 259,
     "metadata": {},
     "output_type": "execute_result"
    }
   ],
   "source": [
    "car[:1]"
   ]
  },
  {
   "cell_type": "markdown",
   "id": "ba0ccc01-e44b-489e-8d43-c3cdfc7f53eb",
   "metadata": {},
   "source": [
    "<img src=\"np-images/dog-photo.png\"/>"
   ]
  },
  {
   "cell_type": "code",
   "execution_count": 260,
   "id": "557ce15b-7ea1-40a8-a63b-5e596a99f634",
   "metadata": {},
   "outputs": [],
   "source": [
    "dog = imread(\"np-images/dog-photo.png\")"
   ]
  },
  {
   "cell_type": "code",
   "execution_count": 262,
   "id": "b28feb69-29f8-469d-85ab-62472730b087",
   "metadata": {},
   "outputs": [
    {
     "data": {
      "text/plain": [
       "(993600, (432, 575, 4), 3)"
      ]
     },
     "execution_count": 262,
     "metadata": {},
     "output_type": "execute_result"
    }
   ],
   "source": [
    "dog.size, dog.shape, dog.ndim"
   ]
  },
  {
   "cell_type": "code",
   "execution_count": null,
   "id": "4d17eef3-58b5-468e-822b-00c782f6035f",
   "metadata": {},
   "outputs": [],
   "source": []
  }
 ],
 "metadata": {
  "kernelspec": {
   "display_name": "Python 3 (ipykernel)",
   "language": "python",
   "name": "python3"
  },
  "language_info": {
   "codemirror_mode": {
    "name": "ipython",
    "version": 3
   },
   "file_extension": ".py",
   "mimetype": "text/x-python",
   "name": "python",
   "nbconvert_exporter": "python",
   "pygments_lexer": "ipython3",
   "version": "3.12.7"
  }
 },
 "nbformat": 4,
 "nbformat_minor": 5
}
